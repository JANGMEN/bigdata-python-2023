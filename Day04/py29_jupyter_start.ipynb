{
 "cells": [
  {
   "attachments": {},
   "cell_type": "markdown",
   "metadata": {},
   "source": [
    "# 주피터 노트북 기본\n",
    "\n",
    "## 셀 추가/삭제\n",
    "\n",
    "- 코드버튼 클릭 - Python 코드 셀 추가\n",
    "- Markdown 버튼 클릭  - 마크다운 셀 추가\n",
    "\n",
    "## 주피터 노트북 대표 단축키\n",
    "- Ctrl + Enter 셀 실행\n",
    "- Shift + Enter 셀 실행 아래 같은 셀 추가\n",
    "- Enter 현재 셀 진입\n",
    "- ESC 현재 셀 빠져 나가기\n",
    "- b 현재 셀 아래 새 셀 추가\n",
    "- a 현재 셀 위 새 셀 추가\n",
    "- m 현재 셀(python) -> 마크다운 셀 변경\n",
    "- y 현재 셀(Markdown) -> 파이썬 셀 변경\n",
    "- Shift + L 라인 넘버 나옴"
   ]
  },
  {
   "cell_type": "code",
   "execution_count": 1,
   "metadata": {},
   "outputs": [
    {
     "name": "stdout",
     "output_type": "stream",
     "text": [
      "여기는 파이썬 셀!\n"
     ]
    }
   ],
   "source": [
    "print('여기는 파이썬 셀!')"
   ]
  },
  {
   "attachments": {},
   "cell_type": "markdown",
   "metadata": {},
   "source": [
    "## 일반 출력\n",
    "```python\n",
    "print('Hello, python!') # 마크다운 코드추가\n",
    "```\n"
   ]
  },
  {
   "cell_type": "code",
   "execution_count": 2,
   "metadata": {},
   "outputs": [
    {
     "name": "stdout",
     "output_type": "stream",
     "text": [
      "Hi~\n"
     ]
    }
   ],
   "source": [
    "print('Hi~')"
   ]
  },
  {
   "attachments": {},
   "cell_type": "markdown",
   "metadata": {},
   "source": [
    "### 이미지 추가\n",
    "\n",
    "> **인용** 좀 하세요~ 제발\n",
    "\n",
    "<img src=\"https://maeng-gun.github.io/assets/images/jupyter3.png\" width=\"700\">\n",
    "\n",
    "---\n",
    "\n",
    "|제목|내용|비고|\n",
    "|:-----|------:|:------:|\n",
    "|제목1|내용1|비고1|\n",
    "|제목1|내용1|비고1|\n",
    "|제목1|내용1|비고1|\n",
    "|제목1|내용1|비고1|\n",
    "|제목입니다|내용입니다|비고입니다|\n"
   ]
  },
  {
   "attachments": {},
   "cell_type": "markdown",
   "metadata": {},
   "source": [
    "### 주피터 노트북 디버깅\n",
    "\n",
    "- 브레이크 포인트(중단점 클릭)\n",
    "- Ctrl + Shift + Alt + Enter\n",
    "    - py 디버깅과 동일(F10, F11)"
   ]
  },
  {
   "cell_type": "code",
   "execution_count": 3,
   "metadata": {},
   "outputs": [],
   "source": [
    "#  나누기 함수\n",
    "def divide(x, y):\n",
    "    result = ''\n",
    "    try:\n",
    "        result = x // y\n",
    "    except Exception as e:\n",
    "        print(f'예외발생 : {e}')\n",
    "\n",
    "    print('나누기 완료')\n",
    "    return result\n",
    "\n"
   ]
  },
  {
   "cell_type": "code",
   "execution_count": 4,
   "metadata": {},
   "outputs": [
    {
     "name": "stdout",
     "output_type": "stream",
     "text": [
      "예외발생 : integer division or modulo by zero\n",
      "나누기 완료\n",
      "\n"
     ]
    }
   ],
   "source": [
    "print(divide(7,0))"
   ]
  },
  {
   "attachments": {},
   "cell_type": "markdown",
   "metadata": {},
   "source": [
    "### 출력 python과 차이점\n",
    "\n",
    "변수를 출력할 때\n",
    "- 변수명만 입력 후 실행 결과 출력\n",
    "- print()도 동일하게 출력\n",
    "    - 단, 변수만 쓸 때는 제일 마지막 변수만 출력\n",
    "    - 여러 번 출력하고 싶으면 print() 사용할 것\n",
    "    - 하지만, 변수를 그냥 출력할 때와 print() 출력 때는 눈에 보이는 결과 다름"
   ]
  },
  {
   "cell_type": "code",
   "execution_count": 5,
   "metadata": {},
   "outputs": [
    {
     "data": {
      "text/plain": [
       "'Hello Python!'"
      ]
     },
     "execution_count": 5,
     "metadata": {},
     "output_type": "execute_result"
    }
   ],
   "source": [
    "a = 'Hello Python!'\n",
    "a"
   ]
  },
  {
   "cell_type": "code",
   "execution_count": 6,
   "metadata": {},
   "outputs": [
    {
     "name": "stdout",
     "output_type": "stream",
     "text": [
      "Hello Python!\n",
      "Hello Python!\n"
     ]
    }
   ],
   "source": [
    "print(a)\n",
    "print(a)"
   ]
  },
  {
   "cell_type": "code",
   "execution_count": 7,
   "metadata": {},
   "outputs": [
    {
     "data": {
      "text/plain": [
       "[1, 2, 3, 4, 5]"
      ]
     },
     "execution_count": 7,
     "metadata": {},
     "output_type": "execute_result"
    }
   ],
   "source": [
    "b = [1, 2, 3, 4, 5]\n",
    "b"
   ]
  },
  {
   "cell_type": "code",
   "execution_count": 8,
   "metadata": {},
   "outputs": [
    {
     "name": "stdout",
     "output_type": "stream",
     "text": [
      "[1, 2, 3, 4, 5]\n"
     ]
    }
   ],
   "source": [
    "print(b)"
   ]
  },
  {
   "attachments": {},
   "cell_type": "markdown",
   "metadata": {},
   "source": [
    "### 출력초과 문제 해결\n",
    "\n",
    "\n",
    "- .py에서의 파일 경로와 .ipynb 경로가 다름\n",
    "    - py : ./Day04/dummy_members.csv\n",
    "    - ipynb : ./dummy_members.csv"
   ]
  },
  {
   "cell_type": "code",
   "execution_count": 2,
   "metadata": {},
   "outputs": [
    {
     "data": {
      "text/html": [
       "<div>\n",
       "<style scoped>\n",
       "    .dataframe tbody tr th:only-of-type {\n",
       "        vertical-align: middle;\n",
       "    }\n",
       "\n",
       "    .dataframe tbody tr th {\n",
       "        vertical-align: top;\n",
       "    }\n",
       "\n",
       "    .dataframe thead th {\n",
       "        text-align: right;\n",
       "    }\n",
       "</style>\n",
       "<table border=\"1\" class=\"dataframe\">\n",
       "  <thead>\n",
       "    <tr style=\"text-align: right;\">\n",
       "      <th></th>\n",
       "      <th>Unnamed: 0</th>\n",
       "      <th>이름</th>\n",
       "      <th>우편번호</th>\n",
       "      <th>직업</th>\n",
       "      <th>주소</th>\n",
       "      <th>전화번호</th>\n",
       "      <th>이메일</th>\n",
       "    </tr>\n",
       "  </thead>\n",
       "  <tbody>\n",
       "    <tr>\n",
       "      <th>0</th>\n",
       "      <td>0</td>\n",
       "      <td>이준혁</td>\n",
       "      <td>51409</td>\n",
       "      <td>매장계산원 및 요금정산원</td>\n",
       "      <td>충청남도 안산시 석촌호수로</td>\n",
       "      <td>054-170-8990</td>\n",
       "      <td>hyeonju72@example.net</td>\n",
       "    </tr>\n",
       "    <tr>\n",
       "      <th>1</th>\n",
       "      <td>1</td>\n",
       "      <td>최수민</td>\n",
       "      <td>47181</td>\n",
       "      <td>제품 디자이너</td>\n",
       "      <td>경기도 충주시 영동대거리</td>\n",
       "      <td>018-222-5028</td>\n",
       "      <td>sbag@example.org</td>\n",
       "    </tr>\n",
       "    <tr>\n",
       "      <th>2</th>\n",
       "      <td>2</td>\n",
       "      <td>손경자</td>\n",
       "      <td>45144</td>\n",
       "      <td>떡제조원</td>\n",
       "      <td>경상남도 양평군 삼성로</td>\n",
       "      <td>070-4675-8895</td>\n",
       "      <td>zi@example.net</td>\n",
       "    </tr>\n",
       "    <tr>\n",
       "      <th>3</th>\n",
       "      <td>3</td>\n",
       "      <td>배지우</td>\n",
       "      <td>30931</td>\n",
       "      <td>양식원</td>\n",
       "      <td>대구광역시 성북구 논현가</td>\n",
       "      <td>064-733-1738</td>\n",
       "      <td>hha@example.com</td>\n",
       "    </tr>\n",
       "    <tr>\n",
       "      <th>4</th>\n",
       "      <td>4</td>\n",
       "      <td>손영철</td>\n",
       "      <td>92892</td>\n",
       "      <td>일식 주방장 및 조리사</td>\n",
       "      <td>광주광역시 관악구 반포대19가</td>\n",
       "      <td>033-982-5134</td>\n",
       "      <td>vmun@example.org</td>\n",
       "    </tr>\n",
       "    <tr>\n",
       "      <th>5</th>\n",
       "      <td>5</td>\n",
       "      <td>김상철</td>\n",
       "      <td>86593</td>\n",
       "      <td>단조기 조작원</td>\n",
       "      <td>광주광역시 영등포구 봉은사로 (현주문오리)</td>\n",
       "      <td>052-008-1735</td>\n",
       "      <td>gimseonghyeon@example.org</td>\n",
       "    </tr>\n",
       "    <tr>\n",
       "      <th>6</th>\n",
       "      <td>6</td>\n",
       "      <td>박영환</td>\n",
       "      <td>37321</td>\n",
       "      <td>사진인화 및 현상기 조작원</td>\n",
       "      <td>제주특별자치도 파주시 서초중앙2가 (순옥서김읍)</td>\n",
       "      <td>016-167-8174</td>\n",
       "      <td>junhogim@example.com</td>\n",
       "    </tr>\n",
       "    <tr>\n",
       "      <th>7</th>\n",
       "      <td>7</td>\n",
       "      <td>우영자</td>\n",
       "      <td>5306</td>\n",
       "      <td>물리 및 작업 치료사</td>\n",
       "      <td>세종특별자치시 용산구 가락길 (서윤김마을)</td>\n",
       "      <td>017-734-8252</td>\n",
       "      <td>imyeongmi@example.com</td>\n",
       "    </tr>\n",
       "    <tr>\n",
       "      <th>8</th>\n",
       "      <td>8</td>\n",
       "      <td>안도현</td>\n",
       "      <td>74615</td>\n",
       "      <td>지휘자/작곡가 및 연주가</td>\n",
       "      <td>경기도 삼척시 언주거리 (아름이김면)</td>\n",
       "      <td>02-8112-1077</td>\n",
       "      <td>hhan@example.com</td>\n",
       "    </tr>\n",
       "    <tr>\n",
       "      <th>9</th>\n",
       "      <td>9</td>\n",
       "      <td>최현준</td>\n",
       "      <td>79755</td>\n",
       "      <td>기타 의료/복지 관련 서비스 종사원</td>\n",
       "      <td>충청남도 수원시 영통구 강남대38가</td>\n",
       "      <td>043-943-9675</td>\n",
       "      <td>fgim@example.org</td>\n",
       "    </tr>\n",
       "  </tbody>\n",
       "</table>\n",
       "</div>"
      ],
      "text/plain": [
       "   Unnamed: 0   이름   우편번호                   직업                          주소  \\\n",
       "0           0  이준혁  51409        매장계산원 및 요금정산원              충청남도 안산시 석촌호수로   \n",
       "1           1  최수민  47181              제품 디자이너               경기도 충주시 영동대거리   \n",
       "2           2  손경자  45144                 떡제조원                경상남도 양평군 삼성로   \n",
       "3           3  배지우  30931                  양식원               대구광역시 성북구 논현가   \n",
       "4           4  손영철  92892         일식 주방장 및 조리사            광주광역시 관악구 반포대19가   \n",
       "5           5  김상철  86593              단조기 조작원     광주광역시 영등포구 봉은사로 (현주문오리)   \n",
       "6           6  박영환  37321       사진인화 및 현상기 조작원  제주특별자치도 파주시 서초중앙2가 (순옥서김읍)   \n",
       "7           7  우영자   5306          물리 및 작업 치료사     세종특별자치시 용산구 가락길 (서윤김마을)   \n",
       "8           8  안도현  74615        지휘자/작곡가 및 연주가        경기도 삼척시 언주거리 (아름이김면)   \n",
       "9           9  최현준  79755  기타 의료/복지 관련 서비스 종사원         충청남도 수원시 영통구 강남대38가   \n",
       "\n",
       "            전화번호                        이메일  \n",
       "0   054-170-8990      hyeonju72@example.net  \n",
       "1   018-222-5028           sbag@example.org  \n",
       "2  070-4675-8895             zi@example.net  \n",
       "3   064-733-1738            hha@example.com  \n",
       "4   033-982-5134           vmun@example.org  \n",
       "5   052-008-1735  gimseonghyeon@example.org  \n",
       "6   016-167-8174       junhogim@example.com  \n",
       "7   017-734-8252      imyeongmi@example.com  \n",
       "8   02-8112-1077           hhan@example.com  \n",
       "9   043-943-9675           fgim@example.org  "
      ]
     },
     "execution_count": 2,
     "metadata": {},
     "output_type": "execute_result"
    }
   ],
   "source": [
    "import pandas as pd\n",
    "\n",
    "df = pd.read_csv('./dummy_members.csv')\n",
    "df"
   ]
  },
  {
   "cell_type": "code",
   "execution_count": 10,
   "metadata": {},
   "outputs": [
    {
     "data": {
      "text/plain": [
       "'c:\\\\Users\\\\Administrator\\\\eclipse-workspace\\\\bigdata-python-2023\\\\Day04'"
      ]
     },
     "execution_count": 10,
     "metadata": {},
     "output_type": "execute_result"
    }
   ],
   "source": [
    "import os\n",
    "\n",
    "os.getcwd()"
   ]
  },
  {
   "attachments": {},
   "cell_type": "markdown",
   "metadata": {},
   "source": [
    "### 출력초과 문제\n",
    "\n",
    "콘솔이나 주피터 셀 출력 전체가 다 안 나오는 현상(성능적 문제 때문에 제약)\n",
    "\n",
    "```python\n",
    "pd.options.display.max_columns = None\n",
    "pd.options.display.max_rows = None\n",
    "```"
   ]
  },
  {
   "cell_type": "code",
   "execution_count": 4,
   "metadata": {},
   "outputs": [
    {
     "name": "stdout",
     "output_type": "stream",
     "text": [
      "    Unnamed: 0   이름   우편번호                         직업  \\\n",
      "0            0  박종수  49755               중식 주방장 및 조리사   \n",
      "1            1  이영희  74497                        판금원   \n",
      "2            2  황정숙  99551                    주조기 조작원   \n",
      "3            3  박영숙   6514                제조관련 단순 종사원   \n",
      "4            4  박중수  34478                        영양사   \n",
      "5            5  윤정수  36246                      치과기공사   \n",
      "6            6  최현주  89496                사서 및 기록물관리사   \n",
      "7            7  심시우  43204               종이제품 생산기 조작원   \n",
      "8            8  이영숙  22206                        검표원   \n",
      "9            9  권주원  56575          전기/전자 부품 및 제품 조립원   \n",
      "10          10  박명숙  66475              기타 사회복지관련 종사원   \n",
      "11          11  김숙자  34628               귀금속 및 보석 세공원   \n",
      "12          12  최수진   7149                      텔레마케터   \n",
      "13          13  권진우   9803                     유치원 교사   \n",
      "14          14  박광수   3056                      전문 의사   \n",
      "15          15  최지연  23961                     교육 관리자   \n",
      "16          16  이미영   3547                    배우 및 모델   \n",
      "17          17  이현준  25366                        안마사   \n",
      "18          18  박정웅  94945                     기업고위임원   \n",
      "19          19  이중수  82333                     상품 대여원   \n",
      "20          20  박광수  96375                        패턴사   \n",
      "21          21  이지원  51669         기타 비금속제품관련 생산기 조작원   \n",
      "22          22  이혜진  25425                     패스트푸드원   \n",
      "23          23  김미숙  44254             기타 판매관련 단순 종사원   \n",
      "24          24  최하윤  83235           가스/에너지 기술자 및 연구원   \n",
      "25          25  김영진  34641                 보건의료관련 관리자   \n",
      "26          26  안정자  58597                        제관원   \n",
      "27          27  박예지  76223                        수금원   \n",
      "28          28  이예은  57503                     한복 제조원   \n",
      "29          29  박현우  78837                     해외 영업원   \n",
      "30          30  이광수  97283             섬유공학 기술자 및 연구원   \n",
      "31          31  이정훈  27870                     회계 사무원   \n",
      "32          32  홍은영  72656                    초등학교 교사   \n",
      "33          33  이준서  24164                   자재관리 사무원   \n",
      "34          34  송영일  77509             도금 및 금속분무기 조작원   \n",
      "35          35  박옥순  54364                제품 생산관련 관리자   \n",
      "36          36  박명자  67264                        수금원   \n",
      "37          37  강준혁  29667                        변리사   \n",
      "38          38  이예원  48315                  정육원 및 도축원   \n",
      "39          39  이경자  82259        전자 부품 및 제품 제조 기계조작원   \n",
      "40          40  민은경  40089              매장계산원 및 요금정산원   \n",
      "41          41  김하윤  31305                        위관급   \n",
      "42          42  이현숙  51025               매표원 및 복권 판매원   \n",
      "43          43  김정희  89094  기타 직물 및 신발 관련 기계조작원 및 조립원   \n",
      "44          44  김미영  60773                 증권 및 외환 딜러   \n",
      "45          45  김성호  88919                        회계사   \n",
      "46          46  양현준  65803                    직업 운동선수   \n",
      "47          47  심중수  41878               경기심판 및 경기기록원   \n",
      "48          48  홍지아  68084                  가축 사육 종사원   \n",
      "49          49  장지영  66337             부동산 컨설턴트 및 중개인   \n",
      "50          50  강채원  61170            통신 및 방송송출 장비 기사   \n",
      "51          51  장현주  93768                 금속가공 기계조작원   \n",
      "52          52  김준호   8091                     교육 관리자   \n",
      "53          53  김준호  72117                    특수교육 교사   \n",
      "54          54  이하은  94045        기타 의료/복지 관련 서비스 종사원   \n",
      "55          55  김승민  45779                학습지 및 방문 교사   \n",
      "56          56  박정남  65853                     선박 정비원   \n",
      "57          57  양영식  22621          선박 갑판승무원 및 관련 종사원   \n",
      "58          58  이광수  11457              시스템 소프트웨어 개발자   \n",
      "59          59  이미정  52689        통신 및 관련 장비 설치 및 수리원   \n",
      "60          60  한하윤  38658                   금융관련 사무원   \n",
      "61          61  이지현  57909                        철근공   \n",
      "62          62  김순옥  20774                        재봉사   \n",
      "63          63  박상현  47381             목재 가공관련 기계 조작원   \n",
      "64          64  박정웅   7009                        청소원   \n",
      "65          65  최광수  42391           철도 기관차 및 전동차 정비원   \n",
      "66          66  한성호  78292                        양식원   \n",
      "67          67  홍영길  88825                    바닥재 시공원   \n",
      "68          68  이준서  80392                    바닥재 시공원   \n",
      "69          69  이준호   1850                        철근공   \n",
      "70          70  김상철  90037                 정보 시스템 운영자   \n",
      "71          71  오보람  57731                       산업전공   \n",
      "72          72  손현지  35696                   과수작물 재배원   \n",
      "73          73  김정순  89887             통신공학 기술자 및 연구원   \n",
      "74          74  구승현  57772                       외선전공   \n",
      "75          75  안영자  82523                   법률관련 사무원   \n",
      "76          76  이예진  13376             건설 및 채굴 기계 운전원   \n",
      "77          77  송서윤  71013                     컴퓨터 강사   \n",
      "78          78  오영순  96992                 정보통신관련 관리자   \n",
      "79          79  윤정순  66756                  기타 의복 제조원   \n",
      "80          80  황채원  24599                       촬영기사   \n",
      "81          81  한성현  31339            금속가공관련 제어장치 조작원   \n",
      "82          82  이수민  67752                 보건의료관련 관리자   \n",
      "83          83  서예은  35375             영업 및 판매 관련 관리자   \n",
      "84          84  김지후  53794           재활용 처리 및 소각로 조작원   \n",
      "85          85  이종수   1803                      대학 교수   \n",
      "86          86  안영진  86498        영상 및 관련 장비 설치 및 수리원   \n",
      "87          87  박현지  77742              곡물가공제품 기계 조작원   \n",
      "88          88  양민수  20295                      가구조립원   \n",
      "89          89  박혜진  42774             기타 판매관련 단순 종사원   \n",
      "90          90  박영수  76107              선박 및 열차 객실승무원   \n",
      "91          91  허현지  48402             고객 상담 및 모니터 요원   \n",
      "92          92  김은서  79437             전기 및 전자 설비 조작원   \n",
      "93          93  김은경  32708                    바닥재 시공원   \n",
      "94          94  황예준  82812                      웹 개발자   \n",
      "95          95  박상철  24476               매표원 및 복권 판매원   \n",
      "96          96  김현준  15594           가스/에너지 기술자 및 연구원   \n",
      "97          97  김성호  97193            금속가공관련 제어장치 조작원   \n",
      "98          98  심현우  88728                   인문과학 연구원   \n",
      "99          99  김민준  16627                     방문 판매원   \n",
      "\n",
      "                                  주소           전화번호                        이메일  \n",
      "0                   경상북도 청주시 흥덕구 학동길   019-609-9327          jiu66@example.net  \n",
      "1             강원도 제천시 석촌호수5가 (은서이마을)   044-451-4082           lyun@example.net  \n",
      "2                      충청북도 삼척시 압구정가   044-521-2208           xgim@example.net  \n",
      "3                충청남도 부천시 원미구 영동대2거리   052-593-1550        yujin55@example.org  \n",
      "4                   대전광역시 서구 반포대211가   018-204-3497       sunjabag@example.net  \n",
      "5             대구광역시 마포구 학동5길 (서영류오리)   062-221-3849     hajeongsig@example.org  \n",
      "6             서울특별시 중구 봉은사8로 (서영김김동)  010-6536-6808          ojang@example.net  \n",
      "7         세종특별자치시 도봉구 테헤란79거리 (민석이면)   011-083-0449      minseocoe@example.com  \n",
      "8              경상북도 서천군 영동대6로 (현지강읍)   032-335-9690     seongmin49@example.com  \n",
      "9                경상남도 충주시 가락길 (명자김읍)   033-011-2942        geonu06@example.org  \n",
      "10                     경기도 평창군 영동대8로   043-282-8497       jiyeon37@example.com  \n",
      "11                   제주특별자치도 평택시 잠실가   051-815-8739       jinhogim@example.net  \n",
      "12           광주광역시 북구 선릉176로 (순옥황이읍)   055-338-6121   hyeonjeong02@example.com  \n",
      "13         대전광역시 동대문구 백제고분거리 (민서최최리)   061-095-6859      sanghun19@example.com  \n",
      "14                제주특별자치도 군포시 역삼28거리   062-653-0417       siuhwang@example.com  \n",
      "15           대전광역시 마포구 압구정로 (경자김이마을)   019-637-0067  gweonyeongjin@example.net  \n",
      "16                      강원도 화천군 개포거리   043-062-9420     gimyeongil@example.org  \n",
      "17           충청남도 속초시 언주594길 (혜진김박동)   016-673-8607             wi@example.com  \n",
      "18                    충청북도 평창군 잠실60길   052-663-4581     yeongjin31@example.com  \n",
      "19          전라북도 성남시 분당구 언주길 (정숙문김면)  070-1379-0707           rcoe@example.org  \n",
      "20         대전광역시 도봉구 양재천045길 (지아권유읍)   02-4568-1684    junyeongnam@example.org  \n",
      "21                  전라남도 예산군 영동대704로   032-846-4535       isanghun@example.net  \n",
      "22              인천광역시 송파구 논현로 (지은이면)   055-396-2591    myeongsug48@example.net  \n",
      "23                 인천광역시 강서구 반포대285로   053-306-6300      hyeonju29@example.com  \n",
      "24           대구광역시 서초구 언주05가 (민지김권동)   031-380-1110      sugjasong@example.com  \n",
      "25         제주특별자치도 삼척시 석촌호수3로 (순옥서리)   043-146-3712     yeongilseo@example.net  \n",
      "26                 세종특별자치시 강북구 가락49길  070-3465-8350         gimjia@example.com  \n",
      "27         세종특별자치시 송파구 석촌호수2가 (영길이읍)   062-116-4023      gimseoyun@example.net  \n",
      "28                세종특별자치시 북구 서초중앙26로   044-769-3681     yeongmibag@example.net  \n",
      "29            충청북도 계룡시 도산대거리 (윤서송한읍)   016-691-8802         jihu10@example.net  \n",
      "30          세종특별자치시 남구 오금7가 (성민김허마을)   031-688-9837     sanghunbag@example.org  \n",
      "31          세종특별자치시 강동구 개포거리 (현숙임마을)   061-433-3297        jaeho11@example.org  \n",
      "32                대구광역시 영등포구 도산대293가   033-033-0882     yeongjin12@example.org  \n",
      "33           세종특별자치시 강남구 학동로 (광수송마을)   042-173-8628      hyeonju48@example.com  \n",
      "34                    강원도 화천군 선릉16거리   011-725-1305       yeweon14@example.net  \n",
      "35              경기도 동두천시 학동로 (정훈박김리)   02-2446-6822   gimgyeongsug@example.net  \n",
      "36                   대구광역시 광진구 봉은사거리   031-698-8282        ujingim@example.org  \n",
      "37                    충청남도 증평군 오금27가   02-2910-7596      yeongjini@example.net  \n",
      "38                경상남도 안산시 단원구 서초대3가   054-311-0421        yujin72@example.net  \n",
      "39            경상남도 시흥시 도산대4길 (예진최이면)   018-138-7415           qgim@example.net  \n",
      "40            전라남도 홍성군 삼성50가 (서연문최동)   043-071-2395           kryu@example.com  \n",
      "41                    전라남도 시흥시 오금76로   019-349-9033        juweoni@example.org  \n",
      "42              인천광역시 동구 압구정로 (영진이읍)   064-752-0333        minji12@example.net  \n",
      "43          경상북도 청주시 흥덕구 개포길 (성현이이읍)   032-822-3736     seohyeon87@example.org  \n",
      "44                   전라북도 성남시 삼성92거리   061-338-7047   gweondohyeon@example.org  \n",
      "45           부산광역시 구로구 반포대7거리 (현지이면)   041-619-0701           oson@example.org  \n",
      "46                    경상북도 음성군 서초중앙가   064-795-7393      ijunhyeog@example.net  \n",
      "47                    대구광역시 송파구 삼성거리   043-255-0286      juweonseo@example.org  \n",
      "48          인천광역시 서초구 석촌호수3로 (정숙김황면)   054-345-0520      eunjeongi@example.net  \n",
      "49         전라북도 원주시 백제고분49거리 (순옥이최동)   051-733-8495        jihye48@example.com  \n",
      "50                 대전광역시 강남구 가락953거리   052-659-1231       minsuhan@example.com  \n",
      "51                대전광역시 중구 석촌호수628거리   051-472-3148        doyun64@example.net  \n",
      "52                  경상남도 수원시 장안구 잠실길   033-908-0746           zgim@example.com  \n",
      "53                   전라남도 서산시 학동75거리   044-740-3435            ggo@example.net  \n",
      "54           부산광역시 광진구 테헤란거리 (지우한조면)   054-503-6354         ogja41@example.com  \n",
      "55                 울산광역시 서대문구 봉은사3거리  070-6216-5531       ryujimin@example.net  \n",
      "56             강원도 수원시 서초중앙거리 (서윤고면)   062-545-2001       jieunbag@example.org  \n",
      "57                      경기도 의왕시 논현거리   055-430-0687          jia42@example.com  \n",
      "58              충청남도 단양군 선릉가 (준호김마을)   032-665-9607          iujin@example.org  \n",
      "59                     광주광역시 용산구 언주길   051-657-1263         jaehoi@example.net  \n",
      "60                 세종특별자치시 송파구 봉은사0로  010-8381-9426      jangyejun@example.com  \n",
      "61          대구광역시 동대문구 백제고분가 (현지김박읍)   031-469-5650     minjunbaeg@example.net  \n",
      "62                      경기도 철원군 언주거리   017-274-4144    yunjeonghun@example.org  \n",
      "63                경기도 안산시 단원구 선릉481로   041-618-8416            jjo@example.com  \n",
      "64            경상남도 강릉시 강남대거리 (현지황한면)   052-074-7279         yejuni@example.com  \n",
      "65   제주특별자치도 고양시 일산동구 서초중앙거리 (상현박고면)   053-585-1338     hyeonjun91@example.net  \n",
      "66             광주광역시 중구 도산대가 (정웅김민면)   02-9753-9516    seongmingim@example.com  \n",
      "67                    경상북도 공주시 백제고분길   018-956-5447           enam@example.org  \n",
      "68            제주특별자치도 괴산군 선릉길 (시우노동)   042-287-2805           bcoe@example.net  \n",
      "69             경상남도 부여군 서초대8길 (민석김읍)   019-378-6748        jinugim@example.org  \n",
      "70                충청남도 천안시 서북구 학동42길   033-640-6065           qryu@example.com  \n",
      "71          경상북도 여주시 서초대72가 (영순이권마을)   054-744-9494        oyeweon@example.net  \n",
      "72      제주특별자치도 과천시 도산대659거리 (도윤오이면)   055-919-0268    jeongjagang@example.org  \n",
      "73          대구광역시 서대문구 도산대로 (경희황김마을)   063-053-9281             ai@example.net  \n",
      "74                     대전광역시 성동구 학동길   016-238-6239       hyeonu33@example.com  \n",
      "75               강원도 구리시 잠실로 (정식문마을)   043-569-4433     imseongjin@example.net  \n",
      "76                  부산광역시 강북구 잠실758가   055-626-2462         minjii@example.com  \n",
      "77                     충청남도 양평군 서초대길   031-537-3586             qi@example.org  \n",
      "78          광주광역시 용산구 양재천8거리 (현준한마을)   017-341-4331    nodonghyeon@example.com  \n",
      "79            인천광역시 서대문구 강남대가 (민서김리)   019-034-8953        eunju78@example.net  \n",
      "80                    대구광역시 강서구 도산대로   041-781-6440    gyeongsug67@example.org  \n",
      "81        세종특별자치시 종로구 양재천629길 (준영박면)   061-290-2447      gimeunseo@example.org  \n",
      "82                     경기도 오산시 석촌호수길   043-593-6791    seonyeong28@example.net  \n",
      "83         광주광역시 강동구 영동대35거리 (서현김김리)   061-408-3780        jungsui@example.com  \n",
      "84                  대구광역시 종로구 서초중앙3가   041-942-7329    hyeonjungim@example.org  \n",
      "85                     부산광역시 금천구 역삼가   051-789-1182    jeongsigsin@example.com  \n",
      "86          울산광역시 동대문구 가락71로 (정희김마을)   017-236-7525     jiyeonggim@example.org  \n",
      "87                     서울특별시 북구 역삼거리   043-065-0845         jihu33@example.com  \n",
      "88          대전광역시 동대문구 잠실86길 (영일송윤면)  010-7313-2495         dgweon@example.com  \n",
      "89                    대전광역시 북구 석촌호수로   019-961-6256    gimjeonghun@example.org  \n",
      "90                     전라남도 인제군 역삼거리   064-789-5893     jeongsig68@example.net  \n",
      "91                   충청북도 구리시 석촌호수거리   017-990-7095          hgang@example.net  \n",
      "92                   부산광역시 서초구 반포대1길   061-467-9839   ryumyeongsug@example.org  \n",
      "93                    충청북도 증평군 백제고분길   011-623-5798        hayun94@example.com  \n",
      "94  제주특별자치도 수원시 팔달구 반포대996거리 (현주송차읍)   044-729-7121           dcoe@example.net  \n",
      "95             경상북도 보은군 강남대가 (시우강최리)   063-859-0235      gimminseo@example.net  \n",
      "96          대구광역시 중랑구 반포대0로 (승현박이마을)   016-358-7736    myeongsug45@example.org  \n",
      "97           제주특별자치도 옥천군 오금길 (영환최장면)   054-785-1476          jiu05@example.com  \n",
      "98           강원도 동두천시 서초중앙가 (지우김김마을)   062-915-8786       cunjason@example.com  \n",
      "99                  대전광역시 서대문구 석촌호수가   051-184-0987   gyeonghyicoe@example.org  \n"
     ]
    }
   ],
   "source": [
    "pd.options.display.max_columns = 10\n",
    "pd.options.display.max_rows = 100\n",
    "\n",
    "data = pd.read_csv('./dummy_members2.csv', encoding='utf-8')\n",
    "print(data)"
   ]
  }
 ],
 "metadata": {
  "kernelspec": {
   "display_name": "Python 3",
   "language": "python",
   "name": "python3"
  },
  "language_info": {
   "codemirror_mode": {
    "name": "ipython",
    "version": 3
   },
   "file_extension": ".py",
   "mimetype": "text/x-python",
   "name": "python",
   "nbconvert_exporter": "python",
   "pygments_lexer": "ipython3",
   "version": "3.11.4"
  },
  "orig_nbformat": 4,
  "vscode": {
   "interpreter": {
    "hash": "ff4b1fca65a764b45acb559e482afe389d289dd599b9f8c5fd12ff5c2ea46a65"
   }
  }
 },
 "nbformat": 4,
 "nbformat_minor": 2
}

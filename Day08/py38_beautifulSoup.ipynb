{
 "cells": [
  {
   "attachments": {},
   "cell_type": "markdown",
   "metadata": {},
   "source": [
    "##### BeautifulSoup\n",
    "\n",
    "- 정적인 웹페이지를 긁어올 때 가장 적합\n",
    "\n",
    "```python\n",
    "!pip install beautifulsoup4\n",
    "```"
   ]
  },
  {
   "cell_type": "code",
   "execution_count": 3,
   "metadata": {},
   "outputs": [
    {
     "name": "stdout",
     "output_type": "stream",
     "text": [
      "Collecting requests\n",
      "  Downloading requests-2.31.0-py3-none-any.whl (62 kB)\n",
      "                                              0.0/62.6 kB ? eta -:--:--\n",
      "     ---------------------------------------- 62.6/62.6 kB 3.3 MB/s eta 0:00:00\n",
      "Collecting charset-normalizer<4,>=2 (from requests)\n",
      "  Downloading charset_normalizer-3.1.0-cp311-cp311-win_amd64.whl (96 kB)\n",
      "                                              0.0/96.7 kB ? eta -:--:--\n",
      "     ---------------------------------------- 96.7/96.7 kB 5.8 MB/s eta 0:00:00\n",
      "Requirement already satisfied: idna<4,>=2.5 in c:\\users\\administrator\\appdata\\local\\programs\\python\\python311\\lib\\site-packages (from requests) (3.4)\n",
      "Requirement already satisfied: urllib3<3,>=1.21.1 in c:\\users\\administrator\\appdata\\local\\programs\\python\\python311\\lib\\site-packages (from requests) (2.0.3)\n",
      "Requirement already satisfied: certifi>=2017.4.17 in c:\\users\\administrator\\appdata\\local\\programs\\python\\python311\\lib\\site-packages (from requests) (2023.5.7)\n",
      "Installing collected packages: charset-normalizer, requests\n",
      "Successfully installed charset-normalizer-3.1.0 requests-2.31.0\n"
     ]
    }
   ],
   "source": [
    "# 뷰티풀스프 설치\n",
    "!pip install requests"
   ]
  },
  {
   "cell_type": "code",
   "execution_count": 1,
   "metadata": {},
   "outputs": [
    {
     "name": "stdout",
     "output_type": "stream",
     "text": [
      "Collecting beautifulsoup4\n",
      "  Downloading beautifulsoup4-4.12.2-py3-none-any.whl (142 kB)\n",
      "                                              0.0/143.0 kB ? eta -:--:--\n",
      "     -------------------------------------- 143.0/143.0 kB 8.3 MB/s eta 0:00:00\n",
      "Collecting soupsieve>1.2 (from beautifulsoup4)\n",
      "  Downloading soupsieve-2.4.1-py3-none-any.whl (36 kB)\n",
      "Installing collected packages: soupsieve, beautifulsoup4\n",
      "Successfully installed beautifulsoup4-4.12.2 soupsieve-2.4.1\n"
     ]
    }
   ],
   "source": [
    "!pip install beautifulsoup4"
   ]
  },
  {
   "cell_type": "code",
   "execution_count": 6,
   "metadata": {},
   "outputs": [
    {
     "data": {
      "text/plain": [
       "\n",
       "<!DOCTYPE html>\n",
       "\n",
       "<html lang=\"ko\">\n",
       "<head>\n",
       "<title>네이버 웹툰</title>\n",
       "<link href=\"https://ssl.pstatic.net/static/m/comic/im/favicon/1804/webtoon_favicon_32x32.ico\" rel=\"shortcut icon\" type=\"image/x-icon\"/>\n",
       "<meta charset=\"utf-8\"/>\n",
       "<meta content=\"ie=edge\" http-equiv=\"x-ua-compatible\"/>\n",
       "<meta content=\"article\" property=\"og:type\"/>\n",
       "<meta content=\"네이버 웹툰\" property=\"og:article:author\"/>\n",
       "<meta content=\"https://comic.naver.com\" property=\"og:article:author:url\"/>\n",
       "<meta content=\"네이버 웹툰\" property=\"og:title\"/>\n",
       "<meta content=\"https://ssl.pstatic.net/static/comic/images/og_tag_v2.png\" property=\"og:image\"/>\n",
       "<meta content=\"매일매일 새로운 재미, 네이버 웹툰.\" property=\"og:description\"/>\n",
       "<script>\n",
       "\t\tif (/MSIE \\d|Trident.*rv:/.test(navigator.userAgent)) {\n",
       "\t\t\twindow.location = 'microsoft-edge:' + window.location;\n",
       "\t\t\tsetTimeout(function () {\n",
       "\t\t\t\twindow.location = 'https://go.microsoft.com/fwlink/?linkid=2135547';\n",
       "\t\t\t}, 1);\n",
       "\t\t}\n",
       "\t</script>\n",
       "<script async=\"\" src=\"https://ssl.pstatic.net/tveta/libs/glad/prod/gfp-core.js\"></script>\n",
       "<script>\n",
       "\t\tvar ccsrv = 'cc.naver.com';\n",
       "\t\twindow.gladsdk = window.gladsdk || { cmd: [] };\n",
       "\t</script>\n",
       "</head>\n",
       "<body>\n",
       "<div id=\"root\"></div>\n",
       "</body>\n",
       "<script src=\"/runtime-997449e3bbc391b95375.js\" type=\"text/javascript\"></script>\n",
       "<script src=\"/vendor-react-d37d9c657a271200d9cf.js\" type=\"text/javascript\"></script>\n",
       "<script src=\"/vendor-react-common-9fc837dada41110dc1fd.js\" type=\"text/javascript\"></script>\n",
       "<script src=\"/vendor-common-0b0b0cc3031d3b0a1965.js\" type=\"text/javascript\"></script>\n",
       "<script src=\"/vendor-log-8df3dc520d958957bcbd.js\" type=\"text/javascript\"></script>\n",
       "<script src=\"/router-08fcd57cb4d630efd408.js\" type=\"text/javascript\"></script>\n",
       "</html>"
      ]
     },
     "execution_count": 6,
     "metadata": {},
     "output_type": "execute_result"
    }
   ],
   "source": [
    "import requests\n",
    "from bs4 import BeautifulSoup\n",
    "\n",
    "url = 'https://comic.naver.com/webtoon'\n",
    "res = requests.get(url)\n",
    "res.raise_for_status()\n",
    "\n",
    "html = BeautifulSoup(res.text)\n",
    "html"
   ]
  },
  {
   "cell_type": "code",
   "execution_count": null,
   "metadata": {},
   "outputs": [],
   "source": [
    "\n",
    "url = 'http://www.ecomarinesys.co.kr/satellite_ais.html'\n",
    "res = requests.get(url)\n",
    "res.raise_for_status()\n",
    "\n",
    "html = BeautifulSoup(res.text)\n",
    "html"
   ]
  },
  {
   "cell_type": "code",
   "execution_count": 8,
   "metadata": {},
   "outputs": [
    {
     "data": {
      "text/plain": [
       "[<h2 class=\"wow fadeInDown\" data-wow-delay=\".3s\" data-wow-duration=\"1s\">Satellite AIS</h2>,\n",
       " <h2 class=\"wow fadeInUp\" data-wow-delay=\".3s\" data-wow-duration=\"1s\">AIS Data Service</h2>,\n",
       " <h2>ABOUT US</h2>,\n",
       " <h2>BUSINESS</h2>,\n",
       " <h2>SUPPORT</h2>]"
      ]
     },
     "execution_count": 8,
     "metadata": {},
     "output_type": "execute_result"
    }
   ],
   "source": [
    "# 전체 페이지에서 h2 태그를 사용하는 값은 전부 가져올 것\n",
    "html.select('h2')"
   ]
  },
  {
   "cell_type": "code",
   "execution_count": 12,
   "metadata": {},
   "outputs": [
    {
     "data": {
      "text/plain": [
       "[<h2 class=\"wow fadeInDown\" data-wow-delay=\".3s\" data-wow-duration=\"1s\">Satellite AIS</h2>,\n",
       " <h2 class=\"wow fadeInUp\" data-wow-delay=\".3s\" data-wow-duration=\"1s\">AIS Data Service</h2>]"
      ]
     },
     "execution_count": 12,
     "metadata": {},
     "output_type": "execute_result"
    }
   ],
   "source": [
    "# h2 태그 중에서 wow 클래스를 사용하고 있는 값 전부 가져올 것\n",
    "html.select('h2.wow')"
   ]
  },
  {
   "cell_type": "code",
   "execution_count": 18,
   "metadata": {},
   "outputs": [
    {
     "data": {
      "text/plain": [
       "[<img alt=\"embedded demo\" src=\"./img/embedded.gif\"/>,\n",
       " <img alt=\"popup demo\" src=\"./img/popup.gif\"/>]"
      ]
     },
     "execution_count": 18,
     "metadata": {},
     "output_type": "execute_result"
    }
   ],
   "source": [
    "# ul 태그 중 float_2 클래스를 쓰고 있는 데이터 하위(>)에 있는 li 밑에 > p 태그 아래 > img 만 가져올 것\n",
    "html.select('ul.float_2 > li > p > img')"
   ]
  },
  {
   "cell_type": "code",
   "execution_count": 23,
   "metadata": {},
   "outputs": [
    {
     "data": {
      "text/plain": [
       "'./img/embedded.gif'"
      ]
     },
     "execution_count": 23,
     "metadata": {},
     "output_type": "execute_result"
    }
   ],
   "source": [
    "embed_img = html.select('ul.float_2 > li > p > img')[0]\n",
    "embed_img['src']"
   ]
  },
  {
   "cell_type": "code",
   "execution_count": 25,
   "metadata": {},
   "outputs": [],
   "source": [
    "import urllib.request as req\n",
    "base_url = 'http://www.ecomarinesys.co.kr/'\n",
    "\n",
    "for i, img in enumerate(embed_img):\n",
    "    src = img.get('src') # img['src']\n",
    "    link = base_url + src\n",
    "    dest = src.replace('./img/', '')\n",
    "    print(dest)\n",
    "    req.urlretrieve(link, f'./{src}')\n",
    "    # print(link)"
   ]
  }
 ],
 "metadata": {
  "kernelspec": {
   "display_name": "Python 3",
   "language": "python",
   "name": "python3"
  },
  "language_info": {
   "codemirror_mode": {
    "name": "ipython",
    "version": 3
   },
   "file_extension": ".py",
   "mimetype": "text/x-python",
   "name": "python",
   "nbconvert_exporter": "python",
   "pygments_lexer": "ipython3",
   "version": "3.11.4"
  },
  "orig_nbformat": 4,
  "vscode": {
   "interpreter": {
    "hash": "ff4b1fca65a764b45acb559e482afe389d289dd599b9f8c5fd12ff5c2ea46a65"
   }
  }
 },
 "nbformat": 4,
 "nbformat_minor": 2
}

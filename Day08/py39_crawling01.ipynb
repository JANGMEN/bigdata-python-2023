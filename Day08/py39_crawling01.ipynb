{
 "cells": [
  {
   "attachments": {},
   "cell_type": "markdown",
   "metadata": {},
   "source": [
    "#### 멜론 노래순위 정보 크롤링\n",
    "\n",
    "##### 크롬 드라이버"
   ]
  },
  {
   "cell_type": "code",
   "execution_count": 47,
   "metadata": {},
   "outputs": [],
   "source": [
    "# 크롬 드라이버로 크롬 열기\n",
    "from selenium import webdriver\n",
    "\n",
    "driver = webdriver.Chrome()"
   ]
  },
  {
   "cell_type": "code",
   "execution_count": 48,
   "metadata": {},
   "outputs": [],
   "source": [
    "# 멜론차트로 진입\n",
    "url = 'https://www.melon.com/chart/index.htm'\n",
    "driver.get(url)"
   ]
  },
  {
   "attachments": {},
   "cell_type": "markdown",
   "metadata": {},
   "source": [
    "##### 뷰티풀수프로 웹 크롤링"
   ]
  },
  {
   "cell_type": "code",
   "execution_count": 3,
   "metadata": {},
   "outputs": [],
   "source": [
    "# beautifulSoup로 HTML 다운로드\n",
    "from bs4 import BeautifulSoup\n",
    "\n",
    "html = driver.page_source\n",
    "soup = BeautifulSoup(html, 'html.parser') # html.parser, xml, lxml, html5lib"
   ]
  },
  {
   "cell_type": "code",
   "execution_count": 7,
   "metadata": {},
   "outputs": [
    {
     "data": {
      "text/plain": [
       "100"
      ]
     },
     "execution_count": 7,
     "metadata": {},
     "output_type": "execute_result"
    }
   ],
   "source": [
    "songs = soup.select('table > tbody > tr')\n",
    "len(songs)"
   ]
  },
  {
   "cell_type": "code",
   "execution_count": 9,
   "metadata": {},
   "outputs": [],
   "source": [
    "song = songs[0]"
   ]
  },
  {
   "cell_type": "code",
   "execution_count": 10,
   "metadata": {},
   "outputs": [
    {
     "data": {
      "text/plain": [
       "[<a class=\"image_typeAll\" href=\"javascript:melon.link.goAlbumDetail('11240232');\" title=\"I feel\">\n",
       " <img alt=\"I feel - 페이지 이동\" height=\"60\" onerror=\"WEBPOCIMG.defaultAlbumImg(this);\" src=\"https://cdnimg.melon.co.kr/cm2/album/images/112/40/232/11240232_20230509151820_500.jpg/melon/resize/120/quality/80/optimize\" width=\"60\"/>\n",
       " <span class=\"bg_album_frame\"></span>\n",
       " </a>,\n",
       " <a class=\"btn button_icons type03 song_info\" href=\"javascript:melon.link.goSongDetail('36430773');\" title=\"퀸카 (Queencard) 곡정보\"><span class=\"none\">곡정보</span></a>,\n",
       " <a href=\"javascript:melon.play.playSong('1000002721',36430773);\" title=\"퀸카 (Queencard) 재생\">퀸카 (Queencard)</a>,\n",
       " <a href=\"javascript:melon.link.goArtistDetail('2137482');\" title=\"(여자)아이들 - 페이지 이동\">(여자)아이들</a>,\n",
       " <a href=\"javascript:melon.link.goArtistDetail('2137482');\" title=\"(여자)아이들 - 페이지 이동\">(여자)아이들</a>,\n",
       " <a href=\"javascript:melon.link.goAlbumDetail('11240232');\" title=\"I feel - 페이지 이동\">I feel</a>]"
      ]
     },
     "execution_count": 10,
     "metadata": {},
     "output_type": "execute_result"
    }
   ],
   "source": [
    "song.select('a')"
   ]
  },
  {
   "cell_type": "code",
   "execution_count": 11,
   "metadata": {},
   "outputs": [
    {
     "data": {
      "text/plain": [
       "[<a href=\"javascript:melon.play.playSong('1000002721',36430773);\" title=\"퀸카 (Queencard) 재생\">퀸카 (Queencard)</a>,\n",
       " <a href=\"javascript:melon.link.goArtistDetail('2137482');\" title=\"(여자)아이들 - 페이지 이동\">(여자)아이들</a>]"
      ]
     },
     "execution_count": 11,
     "metadata": {},
     "output_type": "execute_result"
    }
   ],
   "source": [
    "song.select('span > a')"
   ]
  },
  {
   "cell_type": "code",
   "execution_count": 14,
   "metadata": {},
   "outputs": [
    {
     "data": {
      "text/plain": [
       "[<span class=\"none\">단계 상승</span>]"
      ]
     },
     "execution_count": 14,
     "metadata": {},
     "output_type": "execute_result"
    }
   ],
   "source": [
    "songs[8].select('span.rank_wrap > span > span')"
   ]
  },
  {
   "cell_type": "code",
   "execution_count": 16,
   "metadata": {},
   "outputs": [
    {
     "data": {
      "text/plain": [
       "[<span class=\"up\">1</span>]"
      ]
     },
     "execution_count": 16,
     "metadata": {},
     "output_type": "execute_result"
    }
   ],
   "source": [
    "songs[8].select('span.rank_wrap > span.up')"
   ]
  },
  {
   "cell_type": "code",
   "execution_count": 17,
   "metadata": {},
   "outputs": [
    {
     "data": {
      "text/plain": [
       "[<span class=\"checkEllipsis\" style=\"display: none;\"><a href=\"javascript:melon.link.goArtistDetail('994944');\" title=\"임영웅 - 페이지 이동\">임영웅</a></span>]"
      ]
     },
     "execution_count": 17,
     "metadata": {},
     "output_type": "execute_result"
    }
   ],
   "source": [
    "songs[8].select('span.checkEllipsis')"
   ]
  },
  {
   "cell_type": "code",
   "execution_count": 23,
   "metadata": {},
   "outputs": [
    {
     "data": {
      "text/plain": [
       "[<span class=\"rank\">9</span>,\n",
       " <span class=\"none\">위</span>,\n",
       " <span class=\"rank_wrap\" title=\"1단계 상승\">\n",
       " <span class=\"bullet_icons rank_up\"><span class=\"none\">단계 상승</span></span>\n",
       " <span class=\"up\">1</span>\n",
       " </span>,\n",
       " <span class=\"bullet_icons rank_up\"><span class=\"none\">단계 상승</span></span>,\n",
       " <span class=\"none\">단계 상승</span>,\n",
       " <span class=\"up\">1</span>,\n",
       " <span class=\"bg_album_frame\"></span>,\n",
       " <span class=\"none\">곡정보</span>,\n",
       " <span>\n",
       " <a href=\"javascript:melon.play.playSong('1000002721',34908740);\" title=\"우리들의 블루스 재생\">우리들의 블루스</a>\n",
       " </span>,\n",
       " <span class=\"checkEllipsis\" style=\"display: none;\"><a href=\"javascript:melon.link.goArtistDetail('994944');\" title=\"임영웅 - 페이지 이동\">임영웅</a></span>,\n",
       " <span class=\"odd_span\">좋아요</span>,\n",
       " <span class=\"cnt\">\n",
       " <span class=\"none\">총건수</span>\n",
       " 95,239</span>,\n",
       " <span class=\"none\">총건수</span>,\n",
       " <span class=\"none\">듣기</span>,\n",
       " <span class=\"none\">담기</span>,\n",
       " <span class=\"none\">다운로드</span>,\n",
       " <span class=\"none\">뮤직비디오</span>]"
      ]
     },
     "execution_count": 23,
     "metadata": {},
     "output_type": "execute_result"
    }
   ],
   "source": [
    "songs[8].select('span')"
   ]
  },
  {
   "cell_type": "code",
   "execution_count": 25,
   "metadata": {},
   "outputs": [],
   "source": [
    "result = []\n",
    "\n",
    "for song in songs:\n",
    "    rank = song.select('span.rank')[0].text\n",
    "    title = song.select('span > a')[0].text\n",
    "    singer = song.select('span.checkEllipsis > a')[0].text\n",
    "    result.append([rank, title, singer])"
   ]
  },
  {
   "cell_type": "code",
   "execution_count": 26,
   "metadata": {},
   "outputs": [],
   "source": [
    "import pandas as pd"
   ]
  },
  {
   "cell_type": "code",
   "execution_count": 30,
   "metadata": {},
   "outputs": [
    {
     "data": {
      "text/html": [
       "<div>\n",
       "<style scoped>\n",
       "    .dataframe tbody tr th:only-of-type {\n",
       "        vertical-align: middle;\n",
       "    }\n",
       "\n",
       "    .dataframe tbody tr th {\n",
       "        vertical-align: top;\n",
       "    }\n",
       "\n",
       "    .dataframe thead th {\n",
       "        text-align: right;\n",
       "    }\n",
       "</style>\n",
       "<table border=\"1\" class=\"dataframe\">\n",
       "  <thead>\n",
       "    <tr style=\"text-align: right;\">\n",
       "      <th></th>\n",
       "      <th>0</th>\n",
       "      <th>1</th>\n",
       "      <th>2</th>\n",
       "    </tr>\n",
       "  </thead>\n",
       "  <tbody>\n",
       "    <tr>\n",
       "      <th>0</th>\n",
       "      <td>1</td>\n",
       "      <td>퀸카 (Queencard)</td>\n",
       "      <td>(여자)아이들</td>\n",
       "    </tr>\n",
       "    <tr>\n",
       "      <th>1</th>\n",
       "      <td>2</td>\n",
       "      <td>I AM</td>\n",
       "      <td>IVE (아이브)</td>\n",
       "    </tr>\n",
       "    <tr>\n",
       "      <th>2</th>\n",
       "      <td>3</td>\n",
       "      <td>Spicy</td>\n",
       "      <td>aespa</td>\n",
       "    </tr>\n",
       "    <tr>\n",
       "      <th>3</th>\n",
       "      <td>4</td>\n",
       "      <td>이브, 프시케 그리고 푸른 수염의 아내</td>\n",
       "      <td>LE SSERAFIM (르세라핌)</td>\n",
       "    </tr>\n",
       "    <tr>\n",
       "      <th>4</th>\n",
       "      <td>5</td>\n",
       "      <td>UNFORGIVEN (feat. Nile Rodgers)</td>\n",
       "      <td>LE SSERAFIM (르세라핌)</td>\n",
       "    </tr>\n",
       "    <tr>\n",
       "      <th>...</th>\n",
       "      <td>...</td>\n",
       "      <td>...</td>\n",
       "      <td>...</td>\n",
       "    </tr>\n",
       "    <tr>\n",
       "      <th>95</th>\n",
       "      <td>96</td>\n",
       "      <td>Shut Down</td>\n",
       "      <td>BLACKPINK</td>\n",
       "    </tr>\n",
       "    <tr>\n",
       "      <th>96</th>\n",
       "      <td>97</td>\n",
       "      <td>정이라고 하자 (Feat. 10CM)</td>\n",
       "      <td>BIG Naughty (서동현)</td>\n",
       "    </tr>\n",
       "    <tr>\n",
       "      <th>97</th>\n",
       "      <td>98</td>\n",
       "      <td>당신을 만나</td>\n",
       "      <td>김호중</td>\n",
       "    </tr>\n",
       "    <tr>\n",
       "      <th>98</th>\n",
       "      <td>99</td>\n",
       "      <td>Say I Love You</td>\n",
       "      <td>우디 (Woody)</td>\n",
       "    </tr>\n",
       "    <tr>\n",
       "      <th>99</th>\n",
       "      <td>100</td>\n",
       "      <td>Pink Venom</td>\n",
       "      <td>BLACKPINK</td>\n",
       "    </tr>\n",
       "  </tbody>\n",
       "</table>\n",
       "<p>100 rows × 3 columns</p>\n",
       "</div>"
      ],
      "text/plain": [
       "      0                                1                   2\n",
       "0     1                   퀸카 (Queencard)             (여자)아이들\n",
       "1     2                             I AM           IVE (아이브)\n",
       "2     3                            Spicy               aespa\n",
       "3     4            이브, 프시케 그리고 푸른 수염의 아내  LE SSERAFIM (르세라핌)\n",
       "4     5  UNFORGIVEN (feat. Nile Rodgers)  LE SSERAFIM (르세라핌)\n",
       "..  ...                              ...                 ...\n",
       "95   96                        Shut Down           BLACKPINK\n",
       "96   97             정이라고 하자 (Feat. 10CM)   BIG Naughty (서동현)\n",
       "97   98                           당신을 만나                 김호중\n",
       "98   99                   Say I Love You          우디 (Woody)\n",
       "99  100                       Pink Venom           BLACKPINK\n",
       "\n",
       "[100 rows x 3 columns]"
      ]
     },
     "execution_count": 30,
     "metadata": {},
     "output_type": "execute_result"
    }
   ],
   "source": [
    "df = pd.DataFrame(result)\n",
    "df"
   ]
  },
  {
   "cell_type": "code",
   "execution_count": 31,
   "metadata": {},
   "outputs": [
    {
     "data": {
      "text/html": [
       "<div>\n",
       "<style scoped>\n",
       "    .dataframe tbody tr th:only-of-type {\n",
       "        vertical-align: middle;\n",
       "    }\n",
       "\n",
       "    .dataframe tbody tr th {\n",
       "        vertical-align: top;\n",
       "    }\n",
       "\n",
       "    .dataframe thead th {\n",
       "        text-align: right;\n",
       "    }\n",
       "</style>\n",
       "<table border=\"1\" class=\"dataframe\">\n",
       "  <thead>\n",
       "    <tr style=\"text-align: right;\">\n",
       "      <th></th>\n",
       "      <th>순위</th>\n",
       "      <th>곡명</th>\n",
       "      <th>가수명</th>\n",
       "    </tr>\n",
       "  </thead>\n",
       "  <tbody>\n",
       "    <tr>\n",
       "      <th>0</th>\n",
       "      <td>1</td>\n",
       "      <td>퀸카 (Queencard)</td>\n",
       "      <td>(여자)아이들</td>\n",
       "    </tr>\n",
       "    <tr>\n",
       "      <th>1</th>\n",
       "      <td>2</td>\n",
       "      <td>I AM</td>\n",
       "      <td>IVE (아이브)</td>\n",
       "    </tr>\n",
       "    <tr>\n",
       "      <th>2</th>\n",
       "      <td>3</td>\n",
       "      <td>Spicy</td>\n",
       "      <td>aespa</td>\n",
       "    </tr>\n",
       "    <tr>\n",
       "      <th>3</th>\n",
       "      <td>4</td>\n",
       "      <td>이브, 프시케 그리고 푸른 수염의 아내</td>\n",
       "      <td>LE SSERAFIM (르세라핌)</td>\n",
       "    </tr>\n",
       "    <tr>\n",
       "      <th>4</th>\n",
       "      <td>5</td>\n",
       "      <td>UNFORGIVEN (feat. Nile Rodgers)</td>\n",
       "      <td>LE SSERAFIM (르세라핌)</td>\n",
       "    </tr>\n",
       "    <tr>\n",
       "      <th>...</th>\n",
       "      <td>...</td>\n",
       "      <td>...</td>\n",
       "      <td>...</td>\n",
       "    </tr>\n",
       "    <tr>\n",
       "      <th>95</th>\n",
       "      <td>96</td>\n",
       "      <td>Shut Down</td>\n",
       "      <td>BLACKPINK</td>\n",
       "    </tr>\n",
       "    <tr>\n",
       "      <th>96</th>\n",
       "      <td>97</td>\n",
       "      <td>정이라고 하자 (Feat. 10CM)</td>\n",
       "      <td>BIG Naughty (서동현)</td>\n",
       "    </tr>\n",
       "    <tr>\n",
       "      <th>97</th>\n",
       "      <td>98</td>\n",
       "      <td>당신을 만나</td>\n",
       "      <td>김호중</td>\n",
       "    </tr>\n",
       "    <tr>\n",
       "      <th>98</th>\n",
       "      <td>99</td>\n",
       "      <td>Say I Love You</td>\n",
       "      <td>우디 (Woody)</td>\n",
       "    </tr>\n",
       "    <tr>\n",
       "      <th>99</th>\n",
       "      <td>100</td>\n",
       "      <td>Pink Venom</td>\n",
       "      <td>BLACKPINK</td>\n",
       "    </tr>\n",
       "  </tbody>\n",
       "</table>\n",
       "<p>100 rows × 3 columns</p>\n",
       "</div>"
      ],
      "text/plain": [
       "     순위                               곡명                 가수명\n",
       "0     1                   퀸카 (Queencard)             (여자)아이들\n",
       "1     2                             I AM           IVE (아이브)\n",
       "2     3                            Spicy               aespa\n",
       "3     4            이브, 프시케 그리고 푸른 수염의 아내  LE SSERAFIM (르세라핌)\n",
       "4     5  UNFORGIVEN (feat. Nile Rodgers)  LE SSERAFIM (르세라핌)\n",
       "..  ...                              ...                 ...\n",
       "95   96                        Shut Down           BLACKPINK\n",
       "96   97             정이라고 하자 (Feat. 10CM)   BIG Naughty (서동현)\n",
       "97   98                           당신을 만나                 김호중\n",
       "98   99                   Say I Love You          우디 (Woody)\n",
       "99  100                       Pink Venom           BLACKPINK\n",
       "\n",
       "[100 rows x 3 columns]"
      ]
     },
     "execution_count": 31,
     "metadata": {},
     "output_type": "execute_result"
    }
   ],
   "source": [
    "df.columns = ['순위', '곡명', '가수명']\n",
    "df"
   ]
  },
  {
   "cell_type": "code",
   "execution_count": 32,
   "metadata": {},
   "outputs": [],
   "source": [
    "# 데이터 프레임을 csv로 저장\n",
    "df.to_csv('./melon_ranking_100_20230627.csv', encoding='utf-8', index=False)"
   ]
  },
  {
   "attachments": {},
   "cell_type": "markdown",
   "metadata": {},
   "source": [
    "##### 셀레니움 만으로 크롤링"
   ]
  },
  {
   "cell_type": "code",
   "execution_count": 55,
   "metadata": {},
   "outputs": [
    {
     "name": "stdout",
     "output_type": "stream",
     "text": [
      "1 퀸카 (Queencard) (여자)아이들\n",
      "2 I AM IVE (아이브)\n",
      "3 Spicy aespa\n",
      "4 이브, 프시케 그리고 푸른 수염의 아내 LE SSERAFIM (르세라핌)\n",
      "5 UNFORGIVEN (feat. Nile Rodgers) LE SSERAFIM (르세라핌)\n",
      "6 Kitsch IVE (아이브)\n",
      "7 사랑은 늘 도망가 임영웅\n",
      "8 헤어지자 말해요 박재정\n",
      "9 모래 알갱이 임영웅\n",
      "10 Hype boy NewJeans\n",
      "11 우리들의 블루스 임영웅\n",
      "12 다시 만날 수 있을까 임영웅\n",
      "13 손오공 세븐틴 (SEVENTEEN)\n",
      "14 꽃 지수 (JISOO)\n",
      "15 Ditto NewJeans\n",
      "16 무지개 임영웅\n",
      "17 London Boy 임영웅\n",
      "18 이제 나만 믿어요 임영웅\n",
      "19 Polaroid 임영웅\n",
      "20 아버지 임영웅\n",
      "21 Cupid FIFTY FIFTY\n",
      "22 인생찬가 임영웅\n",
      "23 OMG NewJeans\n",
      "24 A bientot 임영웅\n",
      "25 손이 참 곱던 그대 임영웅\n",
      "26 사랑해 진짜 임영웅\n",
      "27 연애편지 임영웅\n",
      "28 사건의 지평선 윤하 (YOUNHA)\n",
      "29 I Don't Think That I Like Her Charlie Puth\n",
      "30 Candy NCT DREAM\n",
      "31 Dangerously Charlie Puth\n",
      "32 Allergy (여자)아이들\n",
      "33 파이팅 해야지 (Feat. 이영지) 부석순 (SEVENTEEN)\n",
      "34 After LIKE IVE (아이브)\n",
      "35 Attention NewJeans\n",
      "36 Dynamite 방탄소년단\n",
      "37 LOVE DIVE IVE (아이브)\n",
      "38 보금자리 임영웅\n",
      "39 Teddy Bear STAYC(스테이씨)\n",
      "40 물론 허각\n",
      "41 심(心) DK(디셈버)\n",
      "42 사랑하지 않아서 그랬어 임한별\n",
      "43 Butter 방탄소년단\n",
      "44 ANTIFRAGILE LE SSERAFIM (르세라핌)\n",
      "45 사랑..그게 뭔데 지아\n",
      "46 Take Two 방탄소년단\n",
      "47 사람 Pt.2 (feat. 아이유) Agust D\n",
      "48 봄날 방탄소년단\n",
      "49 Like Crazy 지민\n",
      "50 사랑인가 봐 멜로망스\n",
      "51 잠깐 시간 될까 이무진\n",
      "52 Broken Melodies NCT DREAM\n",
      "53 Permission to Dance 방탄소년단\n",
      "54 나에게 그대만이 탑현\n",
      "55 너의 모든 순간 성시경\n",
      "56 Heaven(2023) 임재현\n",
      "57 NIGHT DANCER imase\n",
      "58 빛이 나는 너에게 던 (DAWN)\n",
      "59 The Planet 방탄소년단\n",
      "60 건물 사이에 피어난 장미 (Rose Blossom) H1-KEY (하이키)\n",
      "61 HARD SHINee (샤이니)\n",
      "62 사실말야내가말야그게그러니까말이야 케이시 (Kassy)\n",
      "63 Dreamers [Music from the FIFA World Cup Qatar 2022 Official Soundtrack] (Feat. FIFA Sound) 정국, 방탄소년단\n",
      "64 Thirsty aespa\n",
      "65 Angel Pt. 1 (Feat. Kodak Black, NLE Choppa, JVKE, Muni Long) Fast & Furious: The Fast Saga, 지민\n",
      "66 That's Hilarious Charlie Puth\n",
      "67 찬란한 하루 멜로망스\n",
      "68 KNOCK 이채연\n",
      "69 STAY The Kid LAROI, Justin Bieber\n",
      "70 첫 키스에 내 심장은 120BPM 경서\n",
      "71 TOMBOY (여자)아이들\n",
      "72 Nxde (여자)아이들\n",
      "73 사랑의 바보 제이세라\n",
      "74 부동의 첫사랑 10CM\n",
      "75 해요 (2022) #안녕\n",
      "76 취중고백 김민석 (멜로망스)\n",
      "77 나의 바람 (Wind And Wish) 비투비\n",
      "78 안녕이라고 말하지마 V.O.S\n",
      "79 한사람만 (2023) (여름날 우리 X 이홍기 (FT아일랜드)) 이홍기 (FT아일랜드)\n",
      "80 on the street (with J. Cole) j-hope, J. Cole\n",
      "81 That’s Not How This Works (feat. Dan + Shay) Charlie Puth\n",
      "82 사랑하기 싫어 지아\n",
      "83 Monologue 테이\n",
      "84 그라데이션 10CM\n",
      "85 CHRISTIAN Zior Park\n",
      "86 FRIEND THE END 볼빨간사춘기\n",
      "87 사랑하지 않아서 그랬니 지아\n",
      "88 Love Me Like This NMIXX\n",
      "89 다정히 내 이름을 부르면 경서예지, 전건호\n",
      "90 한강에서 (Feat. BIG Naughty) 폴킴\n",
      "91 그중에 그대를 만나 김호중\n",
      "92 ELEVEN IVE (아이브)\n",
      "93 FEARLESS LE SSERAFIM (르세라핌)\n",
      "94 Shut Down BLACKPINK\n",
      "95 LOCKDOWN 이세계아이돌\n",
      "96 정이라고 하자 (Feat. 10CM) BIG Naughty (서동현)\n",
      "97 내가 아니라도 주호\n",
      "98 Say I Love You 우디 (Woody)\n",
      "99 Pink Venom BLACKPINK\n",
      "100 새삥 (Prod. ZICO) (Feat. 호미들) 지코 (ZICO)\n"
     ]
    }
   ],
   "source": [
    "from selenium.webdriver.common.by import By\n",
    "\n",
    "s_songs = driver.find_elements(By.XPATH, '//table/tbody/tr')\n",
    "\n",
    "for song in s_songs:\n",
    "    # print(song.text.split('\\n'))\n",
    "    tmp = song.text.split('\\n')\n",
    "    rank = tmp[0]\n",
    "    title = tmp[-5]\n",
    "    singer = tmp[-4]\n",
    "    print(rank, title, singer)"
   ]
  },
  {
   "attachments": {},
   "cell_type": "markdown",
   "metadata": {},
   "source": [
    "##### 벅스 인기차트 TOP 100"
   ]
  },
  {
   "cell_type": "code",
   "execution_count": 58,
   "metadata": {},
   "outputs": [],
   "source": [
    "driver = webdriver.Chrome()\n",
    "driver.get('https://music.bugs.co.kr/chart')"
   ]
  },
  {
   "cell_type": "code",
   "execution_count": 59,
   "metadata": {},
   "outputs": [],
   "source": [
    "## 벅스차트 html 가져오기\n",
    "html = driver.page_source\n",
    "soup = BeautifulSoup(html, 'html.parser')"
   ]
  },
  {
   "cell_type": "code",
   "execution_count": 64,
   "metadata": {},
   "outputs": [
    {
     "name": "stdout",
     "output_type": "stream",
     "text": [
      "100\n"
     ]
    }
   ],
   "source": [
    "# 벅스 페이지 내에 table이 2개 존재하므로 table의 클래스명까지 검색해야지 차트 100개만 나옴\n",
    "songs = soup.select('table.byChart > tbody > tr')\n",
    "print(len(songs))"
   ]
  },
  {
   "cell_type": "code",
   "execution_count": 77,
   "metadata": {},
   "outputs": [
    {
     "name": "stdout",
     "output_type": "stream",
     "text": [
      "1 퀸카 (Queencard) (여자)아이들\n",
      "2 I AM IVE (아이브)\n",
      "3 HARD SHINee (샤이니)\n",
      "4 Spicy aespa\n",
      "5 이브, 프시케 그리고 푸른 수염의 아내 LE SSERAFIM (르세라핌)\n",
      "6 Kitsch IVE (아이브)\n",
      "7 UNFORGIVEN (feat. Nile Rodgers) LE SSERAFIM (르세라핌)\n",
      "8 Hype Boy NewJeans\n",
      "9 Ditto NewJeans\n",
      "10 Steal The Show (From “엘리멘탈”) Lauv(라우브)\n",
      "11 헤어지자 말해요 박재정\n",
      "12 Cupid FIFTY FIFTY\n",
      "13 손오공 세븐틴(SEVENTEEN)\n",
      "14 OMG NewJeans\n",
      "15 Attention NewJeans\n",
      "16 꽃 지수(JISOO)\n",
      "17 TOMBOY (여자)아이들\n",
      "18 Dangerously Charlie Puth(찰리 푸스)\n",
      "19 KNOCK 이채연\n",
      "20 JUICE SHINee (샤이니)\n",
      "21 After LIKE IVE (아이브)\n",
      "22 사건의 지평선 윤하(Younha/ユンナ)\n",
      "23 모든 날, 모든 순간 (Every day, Every Moment) 폴킴(Paul Kim)\n",
      "24 Off My Face Justin Bieber(저스틴 비버)\n",
      "25 Thirsty aespa\n",
      "26 건물 사이에 피어난 장미 (Rose Blossom) H1-KEY (하이키)\n",
      "27 When I Get Old Christopher(크리스토퍼)\n",
      "28 I Don’t Think That I Like Her Charlie Puth(찰리 푸스)\n",
      "29 STAY The Kid LAROI\n",
      "30 너의 모든 순간 성시경\n",
      "31 LOVE DIVE IVE (아이브)\n",
      "32 잠깐 시간 될까 이무진\n",
      "33 ANTIFRAGILE LE SSERAFIM (르세라핌)\n",
      "34 Shut Down BLACKPINK\n",
      "35 Cupid (Twin Ver.) FIFTY FIFTY\n",
      "36 한 페이지가 될 수 있게 DAY6 (데이식스)\n",
      "37 Love Me Like This NMIXX\n",
      "38 그라데이션 10CM\n",
      "39 빛이 나는 너에게 던 (DAWN)\n",
      "40 10X SHINee (샤이니)\n",
      "41 FEARLESS LE SSERAFIM (르세라핌)\n",
      "42 오르트구름 윤하(Younha/ユンナ)\n",
      "43 Cookie NewJeans\n",
      "44 파이팅 해야지 (Feat. 이영지) 부석순(SEVENTEEN)\n",
      "45 주저하는 연인들을 위해 잔나비\n",
      "46 Allergy (여자)아이들\n",
      "47 Teddy Bear STAYC(스테이씨)\n",
      "48 That's Hilarious Charlie Puth(찰리 푸스)\n",
      "49 Candy NCT DREAM\n",
      "50 Broken Melodies NCT DREAM\n",
      "51 심(心) DK(디셈버)\n",
      "52 Pink Venom BLACKPINK\n",
      "53 Satellite SHINee (샤이니)\n",
      "54 CHRISTIAN 지올팍(Zior Park)\n",
      "55 That’s Not How This Works (feat. Dan + Shay) Charlie Puth(찰리 푸스)\n",
      "56 ELEVEN IVE (아이브)\n",
      "57 INVU 태연 (TAEYEON)\n",
      "58 The Feeling SHINee (샤이니)\n",
      "59 나의 X에게 경서\n",
      "60 나에게 그대만이 탑현\n",
      "61 한강에서 (Feat. BIG Naughty) 폴킴(Paul Kim)\n",
      "62 사랑인가 봐 멜로망스(MeloMance)\n",
      "63 특 Stray Kids (스트레이 키즈)\n",
      "64 Identity SHINee (샤이니)\n",
      "65 Salty & Sweet aespa\n",
      "66 사실말야내가말야그게그러니까말이야 케이시\n",
      "67 다정히 내 이름을 부르면 경서예지\n",
      "68 Like It SHINee (샤이니)\n",
      "69 희재 이홍기 (FT아일랜드)\n",
      "70 물론 허각\n",
      "71 Monologue 테이(Tei)\n",
      "72 Heaven(2023) 임재현\n",
      "73 그때 그 순간 그대로 (그그그) WSG워너비 (가야G)\n",
      "74 불면증 (Insomnia) SHINee (샤이니)\n",
      "75 Nxde (여자)아이들\n",
      "76 나의 바람 (Wind And Wish) 비투비\n",
      "77 정이라고 하자 (Feat. 10CM) BIG Naughty (서동현)\n",
      "78 Dynamite 방탄소년단\n",
      "79 Poppy (Korean Ver.) STAYC(스테이씨)\n",
      "80 부동의 첫사랑 10CM\n",
      "81 취중고백 김민석 (멜로망스)\n",
      "82 WHEN I MOVE 카라(Kara)\n",
      "83 VIBE (feat. Jimin of BTS) 태양\n",
      "84 Gravity SHINee (샤이니)\n",
      "85 Sweet Misery SHINee (샤이니)\n",
      "86 찬란한 하루 멜로망스(MeloMance)\n",
      "87 해요 (2022) #안녕\n",
      "88 도깨비불 (Illusion) aespa\n",
      "89 드라마 아이유(IU)\n",
      "90 사랑의 바보 제이세라(J-Cera)\n",
      "91 사랑은 늘 도망가 임영웅\n",
      "92 Feel My Rhythm Red Velvet (레드벨벳)\n",
      "93 strawberry moon 아이유(IU)\n",
      "94 사랑하지 않아서 그랬니 지아(Zia)\n",
      "95 Say I Love You 우디(Woody)\n",
      "96 사랑..그게 뭔데 지아(Zia)\n",
      "97 FRIEND THE END 볼빨간사춘기\n",
      "98 NOT SORRY (Feat. pH-1) (Prod. by Slom) 이영지\n",
      "99 LOVE me BE'O (비오)\n",
      "100 딱 10CM만 10CM\n"
     ]
    }
   ],
   "source": [
    "for song in songs:\n",
    "    rank = song.select('td > div.ranking > strong')[0].text\n",
    "    title = song.select('p.title > a')[0].text\n",
    "    singer =  song.select('p.artist > a')[0].text\n",
    "    print(rank, title, singer)"
   ]
  },
  {
   "cell_type": "code",
   "execution_count": 33,
   "metadata": {},
   "outputs": [],
   "source": [
    "# from user_agent import generate_user_agent, generate_navigator\n",
    "from bs4 import BeautifulSoup\n",
    "import requests\n",
    "\n",
    "# hdr = { 'User-Agent' : generate_user_agent(os='win', device_type='desktop')}\n",
    "\n",
    "url = 'http://www.ecomarinesys.co.kr/satellite_ais.html'\n",
    "res = requests.get(url) #, headers=hdr)\n",
    "res.raise_for_status()\n",
    "html = BeautifulSoup(res.text, 'html.parser')\n"
   ]
  },
  {
   "cell_type": "code",
   "execution_count": 34,
   "metadata": {},
   "outputs": [
    {
     "data": {
      "text/plain": [
       "[<h2 class=\"wow fadeInDown\" data-wow-delay=\".3s\" data-wow-duration=\"1s\">Satellite AIS</h2>,\n",
       " <h2 class=\"wow fadeInUp\" data-wow-delay=\".3s\" data-wow-duration=\"1s\">AIS Data Service</h2>]"
      ]
     },
     "execution_count": 34,
     "metadata": {},
     "output_type": "execute_result"
    }
   ],
   "source": [
    "# h2 태그 중에서 wow 클래스를 사용하고 있는 값 전부 가져올 것\n",
    "html.select('h2.wow')"
   ]
  },
  {
   "cell_type": "code",
   "execution_count": 35,
   "metadata": {},
   "outputs": [],
   "source": [
    "embed_img = html.select('ul.float_2 > li > p > img')"
   ]
  },
  {
   "cell_type": "code",
   "execution_count": 45,
   "metadata": {},
   "outputs": [
    {
     "data": {
      "text/plain": [
       "[<img alt=\"oceanlook logo\" src=\"img/oceanlook_logo.png\" style=\"display: inline-block; vertical-align: top; margin-right: 10px; height:30px;\"/>,\n",
       " <img alt=\"embedded demo\" src=\"./img/embedded.gif\"/>,\n",
       " <img alt=\"popup demo\" src=\"./img/popup.gif\"/>]"
      ]
     },
     "execution_count": 45,
     "metadata": {},
     "output_type": "execute_result"
    }
   ],
   "source": [
    "embed_img = html.select('img')[20:23] # [20:23]\n",
    "embed_img"
   ]
  },
  {
   "cell_type": "code",
   "execution_count": 46,
   "metadata": {},
   "outputs": [
    {
     "name": "stdout",
     "output_type": "stream",
     "text": [
      "oceanlook_logo.png\n",
      "oceanlook_logo.png 저장완료!\n",
      "embedded.gif\n",
      "embedded.gif 저장완료!\n",
      "popup.gif\n",
      "popup.gif 저장완료!\n"
     ]
    }
   ],
   "source": [
    "import requests\n",
    "\n",
    "base_url = 'http://www.ecomarinesys.co.kr/'\n",
    "\n",
    "for index, image in enumerate(embed_img): # enumerate : 열거형으로 만든다\n",
    "    img_url = image['src']\n",
    "    # print(img_url)\n",
    "    dest_url = base_url + img_url\n",
    "    tmp = img_url.split('/')\n",
    "    fileName = tmp[len(tmp) - 1]\n",
    "    print(fileName)\n",
    "\n",
    "    img_res = requests.get(dest_url)\n",
    "    img_res.raise_for_status() # 200 또는 예외발생\n",
    "\n",
    "    with open(f'{fileName}', mode='wb') as f:\n",
    "        f.write(img_res.content) # 이미지 저장 핵심\n",
    "        print(f'{fileName} 저장완료!')"
   ]
  }
 ],
 "metadata": {
  "kernelspec": {
   "display_name": "Python 3",
   "language": "python",
   "name": "python3"
  },
  "language_info": {
   "codemirror_mode": {
    "name": "ipython",
    "version": 3
   },
   "file_extension": ".py",
   "mimetype": "text/x-python",
   "name": "python",
   "nbconvert_exporter": "python",
   "pygments_lexer": "ipython3",
   "version": "3.11.4"
  },
  "orig_nbformat": 4,
  "vscode": {
   "interpreter": {
    "hash": "ff4b1fca65a764b45acb559e482afe389d289dd599b9f8c5fd12ff5c2ea46a65"
   }
  }
 },
 "nbformat": 4,
 "nbformat_minor": 2
}

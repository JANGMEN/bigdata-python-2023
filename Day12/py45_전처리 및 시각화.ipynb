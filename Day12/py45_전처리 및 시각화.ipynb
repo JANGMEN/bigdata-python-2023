{
 "cells": [
  {
   "attachments": {},
   "cell_type": "markdown",
   "metadata": {},
   "source": [
    "#### 데이터 전처리 및 시각화\n",
    "\n",
    "##### 전처리\n",
    "\n",
    "- 데이터프레임 병합"
   ]
  },
  {
   "cell_type": "code",
   "execution_count": 1,
   "metadata": {},
   "outputs": [],
   "source": [
    "# import\n",
    "import pandas as pd\n",
    "import numpy as np\n",
    "\n",
    "import folium\n",
    "import json"
   ]
  },
  {
   "cell_type": "code",
   "execution_count": 2,
   "metadata": {},
   "outputs": [
    {
     "ename": "PermissionError",
     "evalue": "[Errno 13] Permission denied: './'",
     "output_type": "error",
     "traceback": [
      "\u001b[1;31m---------------------------------------------------------------------------\u001b[0m",
      "\u001b[1;31mPermissionError\u001b[0m                           Traceback (most recent call last)",
      "Cell \u001b[1;32mIn[2], line 2\u001b[0m\n\u001b[0;32m      1\u001b[0m \u001b[39m# 스타벅스 매장리스트\u001b[39;00m\n\u001b[1;32m----> 2\u001b[0m sbuck_df \u001b[39m=\u001b[39m pd\u001b[39m.\u001b[39;49mread_excel(\u001b[39m'\u001b[39;49m\u001b[39m./\u001b[39;49m\u001b[39m'\u001b[39;49m)\n\u001b[0;32m      3\u001b[0m sbuck_df\u001b[39m.\u001b[39mhead()\n",
      "File \u001b[1;32mc:\\Users\\Administrator\\AppData\\Local\\Programs\\Python\\Python311\\Lib\\site-packages\\pandas\\io\\excel\\_base.py:478\u001b[0m, in \u001b[0;36mread_excel\u001b[1;34m(io, sheet_name, header, names, index_col, usecols, dtype, engine, converters, true_values, false_values, skiprows, nrows, na_values, keep_default_na, na_filter, verbose, parse_dates, date_parser, date_format, thousands, decimal, comment, skipfooter, storage_options, dtype_backend)\u001b[0m\n\u001b[0;32m    476\u001b[0m \u001b[39mif\u001b[39;00m \u001b[39mnot\u001b[39;00m \u001b[39misinstance\u001b[39m(io, ExcelFile):\n\u001b[0;32m    477\u001b[0m     should_close \u001b[39m=\u001b[39m \u001b[39mTrue\u001b[39;00m\n\u001b[1;32m--> 478\u001b[0m     io \u001b[39m=\u001b[39m ExcelFile(io, storage_options\u001b[39m=\u001b[39;49mstorage_options, engine\u001b[39m=\u001b[39;49mengine)\n\u001b[0;32m    479\u001b[0m \u001b[39melif\u001b[39;00m engine \u001b[39mand\u001b[39;00m engine \u001b[39m!=\u001b[39m io\u001b[39m.\u001b[39mengine:\n\u001b[0;32m    480\u001b[0m     \u001b[39mraise\u001b[39;00m \u001b[39mValueError\u001b[39;00m(\n\u001b[0;32m    481\u001b[0m         \u001b[39m\"\u001b[39m\u001b[39mEngine should not be specified when passing \u001b[39m\u001b[39m\"\u001b[39m\n\u001b[0;32m    482\u001b[0m         \u001b[39m\"\u001b[39m\u001b[39man ExcelFile - ExcelFile already has the engine set\u001b[39m\u001b[39m\"\u001b[39m\n\u001b[0;32m    483\u001b[0m     )\n",
      "File \u001b[1;32mc:\\Users\\Administrator\\AppData\\Local\\Programs\\Python\\Python311\\Lib\\site-packages\\pandas\\io\\excel\\_base.py:1496\u001b[0m, in \u001b[0;36mExcelFile.__init__\u001b[1;34m(self, path_or_buffer, engine, storage_options)\u001b[0m\n\u001b[0;32m   1494\u001b[0m     ext \u001b[39m=\u001b[39m \u001b[39m\"\u001b[39m\u001b[39mxls\u001b[39m\u001b[39m\"\u001b[39m\n\u001b[0;32m   1495\u001b[0m \u001b[39melse\u001b[39;00m:\n\u001b[1;32m-> 1496\u001b[0m     ext \u001b[39m=\u001b[39m inspect_excel_format(\n\u001b[0;32m   1497\u001b[0m         content_or_path\u001b[39m=\u001b[39;49mpath_or_buffer, storage_options\u001b[39m=\u001b[39;49mstorage_options\n\u001b[0;32m   1498\u001b[0m     )\n\u001b[0;32m   1499\u001b[0m     \u001b[39mif\u001b[39;00m ext \u001b[39mis\u001b[39;00m \u001b[39mNone\u001b[39;00m:\n\u001b[0;32m   1500\u001b[0m         \u001b[39mraise\u001b[39;00m \u001b[39mValueError\u001b[39;00m(\n\u001b[0;32m   1501\u001b[0m             \u001b[39m\"\u001b[39m\u001b[39mExcel file format cannot be determined, you must specify \u001b[39m\u001b[39m\"\u001b[39m\n\u001b[0;32m   1502\u001b[0m             \u001b[39m\"\u001b[39m\u001b[39man engine manually.\u001b[39m\u001b[39m\"\u001b[39m\n\u001b[0;32m   1503\u001b[0m         )\n",
      "File \u001b[1;32mc:\\Users\\Administrator\\AppData\\Local\\Programs\\Python\\Python311\\Lib\\site-packages\\pandas\\io\\excel\\_base.py:1371\u001b[0m, in \u001b[0;36minspect_excel_format\u001b[1;34m(content_or_path, storage_options)\u001b[0m\n\u001b[0;32m   1368\u001b[0m \u001b[39mif\u001b[39;00m \u001b[39misinstance\u001b[39m(content_or_path, \u001b[39mbytes\u001b[39m):\n\u001b[0;32m   1369\u001b[0m     content_or_path \u001b[39m=\u001b[39m BytesIO(content_or_path)\n\u001b[1;32m-> 1371\u001b[0m \u001b[39mwith\u001b[39;00m get_handle(\n\u001b[0;32m   1372\u001b[0m     content_or_path, \u001b[39m\"\u001b[39;49m\u001b[39mrb\u001b[39;49m\u001b[39m\"\u001b[39;49m, storage_options\u001b[39m=\u001b[39;49mstorage_options, is_text\u001b[39m=\u001b[39;49m\u001b[39mFalse\u001b[39;49;00m\n\u001b[0;32m   1373\u001b[0m ) \u001b[39mas\u001b[39;00m handle:\n\u001b[0;32m   1374\u001b[0m     stream \u001b[39m=\u001b[39m handle\u001b[39m.\u001b[39mhandle\n\u001b[0;32m   1375\u001b[0m     stream\u001b[39m.\u001b[39mseek(\u001b[39m0\u001b[39m)\n",
      "File \u001b[1;32mc:\\Users\\Administrator\\AppData\\Local\\Programs\\Python\\Python311\\Lib\\site-packages\\pandas\\io\\common.py:868\u001b[0m, in \u001b[0;36mget_handle\u001b[1;34m(path_or_buf, mode, encoding, compression, memory_map, is_text, errors, storage_options)\u001b[0m\n\u001b[0;32m    859\u001b[0m         handle \u001b[39m=\u001b[39m \u001b[39mopen\u001b[39m(\n\u001b[0;32m    860\u001b[0m             handle,\n\u001b[0;32m    861\u001b[0m             ioargs\u001b[39m.\u001b[39mmode,\n\u001b[1;32m   (...)\u001b[0m\n\u001b[0;32m    864\u001b[0m             newline\u001b[39m=\u001b[39m\u001b[39m\"\u001b[39m\u001b[39m\"\u001b[39m,\n\u001b[0;32m    865\u001b[0m         )\n\u001b[0;32m    866\u001b[0m     \u001b[39melse\u001b[39;00m:\n\u001b[0;32m    867\u001b[0m         \u001b[39m# Binary mode\u001b[39;00m\n\u001b[1;32m--> 868\u001b[0m         handle \u001b[39m=\u001b[39m \u001b[39mopen\u001b[39;49m(handle, ioargs\u001b[39m.\u001b[39;49mmode)\n\u001b[0;32m    869\u001b[0m     handles\u001b[39m.\u001b[39mappend(handle)\n\u001b[0;32m    871\u001b[0m \u001b[39m# Convert BytesIO or file objects passed with an encoding\u001b[39;00m\n",
      "\u001b[1;31mPermissionError\u001b[0m: [Errno 13] Permission denied: './'"
     ]
    }
   ],
   "source": [
    "# 스타벅스 매장리스트\n",
    "sbuck_df = pd.read_excel('./')\n",
    "sbuck_df.head()"
   ]
  },
  {
   "cell_type": "code",
   "execution_count": null,
   "metadata": {},
   "outputs": [],
   "source": [
    "sbuck_df['주소'][100].split()[1]"
   ]
  },
  {
   "cell_type": "code",
   "execution_count": null,
   "metadata": {},
   "outputs": [],
   "source": [
    "gu_list = []\n",
    "for item in sbuck_df['주소']:\n",
    "    gu = item.split()[1]\n",
    "    gu_list.append(gu)\n",
    "\n",
    "sbuck_df['구'] = gu_list\n",
    "sbuck_df.head()"
   ]
  },
  {
   "attachments": {},
   "cell_type": "markdown",
   "metadata": {},
   "source": [
    "##### 서울시 행정구역별 위경도 전처리\n",
    "\n",
    "- 대한민국 행정구역 위경도 엑셀파일에서 서울만 필터링"
   ]
  },
  {
   "cell_type": "code",
   "execution_count": null,
   "metadata": {},
   "outputs": [
    {
     "data": {
      "text/html": [
       "<div>\n",
       "<style scoped>\n",
       "    .dataframe tbody tr th:only-of-type {\n",
       "        vertical-align: middle;\n",
       "    }\n",
       "\n",
       "    .dataframe tbody tr th {\n",
       "        vertical-align: top;\n",
       "    }\n",
       "\n",
       "    .dataframe thead th {\n",
       "        text-align: right;\n",
       "    }\n",
       "</style>\n",
       "<table border=\"1\" class=\"dataframe\">\n",
       "  <thead>\n",
       "    <tr style=\"text-align: right;\">\n",
       "      <th></th>\n",
       "      <th>docity</th>\n",
       "      <th>do</th>\n",
       "      <th>city</th>\n",
       "      <th>longitude</th>\n",
       "      <th>latitude</th>\n",
       "    </tr>\n",
       "  </thead>\n",
       "  <tbody>\n",
       "    <tr>\n",
       "      <th>0</th>\n",
       "      <td>강원강릉시</td>\n",
       "      <td>강원</td>\n",
       "      <td>강릉시</td>\n",
       "      <td>128.878497</td>\n",
       "      <td>37.749136</td>\n",
       "    </tr>\n",
       "    <tr>\n",
       "      <th>1</th>\n",
       "      <td>강원고성군</td>\n",
       "      <td>강원</td>\n",
       "      <td>고성군</td>\n",
       "      <td>128.470164</td>\n",
       "      <td>38.377961</td>\n",
       "    </tr>\n",
       "    <tr>\n",
       "      <th>2</th>\n",
       "      <td>강원동해시</td>\n",
       "      <td>강원</td>\n",
       "      <td>동해시</td>\n",
       "      <td>129.116633</td>\n",
       "      <td>37.521931</td>\n",
       "    </tr>\n",
       "    <tr>\n",
       "      <th>3</th>\n",
       "      <td>강원삼척시</td>\n",
       "      <td>강원</td>\n",
       "      <td>삼척시</td>\n",
       "      <td>129.167489</td>\n",
       "      <td>37.447086</td>\n",
       "    </tr>\n",
       "    <tr>\n",
       "      <th>4</th>\n",
       "      <td>강원속초시</td>\n",
       "      <td>강원</td>\n",
       "      <td>속초시</td>\n",
       "      <td>128.594167</td>\n",
       "      <td>38.204275</td>\n",
       "    </tr>\n",
       "  </tbody>\n",
       "</table>\n",
       "</div>"
      ],
      "text/plain": [
       "  docity  do city   longitude   latitude\n",
       "0  강원강릉시  강원  강릉시  128.878497  37.749136\n",
       "1  강원고성군  강원  고성군  128.470164  38.377961\n",
       "2  강원동해시  강원  동해시  129.116633  37.521931\n",
       "3  강원삼척시  강원  삼척시  129.167489  37.447086\n",
       "4  강원속초시  강원  속초시  128.594167  38.204275"
      ]
     },
     "execution_count": 7,
     "metadata": {},
     "output_type": "execute_result"
    }
   ],
   "source": [
    "seoul_loc_df = pd.read_excel('./대한민국_행정구역_위경도.xlsx')\n",
    "seoul_loc_df.head()"
   ]
  },
  {
   "cell_type": "code",
   "execution_count": null,
   "metadata": {},
   "outputs": [
    {
     "data": {
      "text/html": [
       "<div>\n",
       "<style scoped>\n",
       "    .dataframe tbody tr th:only-of-type {\n",
       "        vertical-align: middle;\n",
       "    }\n",
       "\n",
       "    .dataframe tbody tr th {\n",
       "        vertical-align: top;\n",
       "    }\n",
       "\n",
       "    .dataframe thead th {\n",
       "        text-align: right;\n",
       "    }\n",
       "</style>\n",
       "<table border=\"1\" class=\"dataframe\">\n",
       "  <thead>\n",
       "    <tr style=\"text-align: right;\">\n",
       "      <th></th>\n",
       "      <th>docity</th>\n",
       "      <th>do</th>\n",
       "      <th>city</th>\n",
       "      <th>longitude</th>\n",
       "      <th>latitude</th>\n",
       "    </tr>\n",
       "  </thead>\n",
       "  <tbody>\n",
       "    <tr>\n",
       "      <th>138</th>\n",
       "      <td>서울강남구</td>\n",
       "      <td>서울</td>\n",
       "      <td>강남구</td>\n",
       "      <td>127.049556</td>\n",
       "      <td>37.514575</td>\n",
       "    </tr>\n",
       "    <tr>\n",
       "      <th>139</th>\n",
       "      <td>서울강동구</td>\n",
       "      <td>서울</td>\n",
       "      <td>강동구</td>\n",
       "      <td>127.125864</td>\n",
       "      <td>37.527367</td>\n",
       "    </tr>\n",
       "    <tr>\n",
       "      <th>140</th>\n",
       "      <td>서울강북구</td>\n",
       "      <td>서울</td>\n",
       "      <td>강북구</td>\n",
       "      <td>127.027719</td>\n",
       "      <td>37.636956</td>\n",
       "    </tr>\n",
       "    <tr>\n",
       "      <th>141</th>\n",
       "      <td>서울강서구</td>\n",
       "      <td>서울</td>\n",
       "      <td>강서구</td>\n",
       "      <td>126.851675</td>\n",
       "      <td>37.548156</td>\n",
       "    </tr>\n",
       "    <tr>\n",
       "      <th>142</th>\n",
       "      <td>서울관악구</td>\n",
       "      <td>서울</td>\n",
       "      <td>관악구</td>\n",
       "      <td>126.953844</td>\n",
       "      <td>37.475386</td>\n",
       "    </tr>\n",
       "  </tbody>\n",
       "</table>\n",
       "</div>"
      ],
      "text/plain": [
       "    docity  do city   longitude   latitude\n",
       "138  서울강남구  서울  강남구  127.049556  37.514575\n",
       "139  서울강동구  서울  강동구  127.125864  37.527367\n",
       "140  서울강북구  서울  강북구  127.027719  37.636956\n",
       "141  서울강서구  서울  강서구  126.851675  37.548156\n",
       "142  서울관악구  서울  관악구  126.953844  37.475386"
      ]
     },
     "execution_count": 9,
     "metadata": {},
     "output_type": "execute_result"
    }
   ],
   "source": [
    "seoul_gu_df = seoul_loc_df[seoul_loc_df['do'] == '서울']\n",
    "seoul_gu_df.head()"
   ]
  },
  {
   "cell_type": "code",
   "execution_count": null,
   "metadata": {},
   "outputs": [
    {
     "name": "stdout",
     "output_type": "stream",
     "text": [
      "<class 'pandas.core.frame.DataFrame'>\n",
      "Index: 25 entries, 138 to 162\n",
      "Data columns (total 5 columns):\n",
      " #   Column     Non-Null Count  Dtype  \n",
      "---  ------     --------------  -----  \n",
      " 0   docity     25 non-null     object \n",
      " 1   do         25 non-null     object \n",
      " 2   city       25 non-null     object \n",
      " 3   longitude  25 non-null     float64\n",
      " 4   latitude   25 non-null     float64\n",
      "dtypes: float64(2), object(3)\n",
      "memory usage: 1.2+ KB\n"
     ]
    }
   ],
   "source": [
    "seoul_gu_df.info()"
   ]
  },
  {
   "cell_type": "code",
   "execution_count": null,
   "metadata": {},
   "outputs": [],
   "source": [
    "seoul_gu_df.to_excel('./seoul_gu_info.xlsx', index=False)"
   ]
  },
  {
   "attachments": {},
   "cell_type": "markdown",
   "metadata": {},
   "source": [
    "##### 서울시 구별 스타벅스 매장 수 구하기"
   ]
  },
  {
   "cell_type": "code",
   "execution_count": null,
   "metadata": {},
   "outputs": [],
   "source": [
    "sbuck_gu_counts = sbuck_df.pivot_table(index='구', values='매장명', aggfunc='count').rename(columns={'매장명' : '스타벅스_매장수'})\n",
    "\n",
    "sbuck_gu_counts.head()"
   ]
  },
  {
   "cell_type": "code",
   "execution_count": null,
   "metadata": {},
   "outputs": [],
   "source": [
    "# seoul_gu_df 수정\n",
    "seoul_gu_df[['do', 'city', 'latitude', 'longitude']]\n",
    "columns = {'do' : '도', 'city' : '구', 'latitude' : '위도', 'longitude' : '경도'}\n",
    "seoul_gu_df.rename(columns=columns, inplace=True)"
   ]
  },
  {
   "cell_type": "code",
   "execution_count": null,
   "metadata": {},
   "outputs": [],
   "source": [
    "seoul_gu_df = seoul_gu_df[['도', '구', '경도', '위도']]\n",
    "seoul_gu_df.reset_index(drop=True, inplace=True)"
   ]
  },
  {
   "cell_type": "code",
   "execution_count": null,
   "metadata": {},
   "outputs": [],
   "source": [
    "seoul_gu_df.head()"
   ]
  },
  {
   "cell_type": "code",
   "execution_count": null,
   "metadata": {},
   "outputs": [],
   "source": [
    "seoul_sgg = pd.merge(seoul_gu_df, sbuck_gu_counts, how='left', on='구')\n",
    "seoul_sgg"
   ]
  },
  {
   "cell_type": "code",
   "execution_count": null,
   "metadata": {},
   "outputs": [],
   "source": [
    "seoul_pop = pd.read_excel('./seoul_pop.xlsx')\n",
    "seoul_pop.tail()"
   ]
  },
  {
   "cell_type": "code",
   "execution_count": null,
   "metadata": {},
   "outputs": [],
   "source": [
    "seoul_sgg = pd.merge(seoul_sgg, seoul_pop, how='left', on='구')\n",
    "seoul_sgg.head()"
   ]
  },
  {
   "cell_type": "code",
   "execution_count": null,
   "metadata": {},
   "outputs": [],
   "source": [
    "seoul_sgg = seoul_sgg[['도', '구', '경도', '위도', '스타벅스_매장수', '계_x']]\n",
    "seoul_sgg.tail()"
   ]
  },
  {
   "cell_type": "code",
   "execution_count": null,
   "metadata": {},
   "outputs": [],
   "source": [
    "# 사업체수\n",
    "seoul_biz = pd.read_excel('./seoul_biz.xlsx')\n",
    "seoul_biz.tail()"
   ]
  },
  {
   "cell_type": "code",
   "execution_count": null,
   "metadata": {},
   "outputs": [],
   "source": [
    "seoul_sgg_stat = pd.merge(seoul_sgg, seoul_biz, how='left', on='구')\n",
    "seoul_sgg_stat.tail()"
   ]
  },
  {
   "cell_type": "code",
   "execution_count": null,
   "metadata": {},
   "outputs": [],
   "source": [
    "columns = {'도' : '도', '구' : '구', '경도' : '경도', '위도' : '위도', '스타벅스_매장수' : '스타벅스_매장수', '계_x' : '인구수', '사업체수' : '사업체수', '종사자수계' : '종사자수'}\n",
    "seoul_sgg_stat.rename(columns=columns, inplace=True)"
   ]
  },
  {
   "cell_type": "code",
   "execution_count": null,
   "metadata": {},
   "outputs": [],
   "source": [
    "seoul_sgg_stat.to_excel('./seoul_sgg_stat.xlsx', index=False)"
   ]
  },
  {
   "attachments": {},
   "cell_type": "markdown",
   "metadata": {},
   "source": [
    "##### 데이터 시각화"
   ]
  },
  {
   "cell_type": "code",
   "execution_count": null,
   "metadata": {},
   "outputs": [],
   "source": [
    "sbuck_df.tail()"
   ]
  },
  {
   "cell_type": "code",
   "execution_count": null,
   "metadata": {},
   "outputs": [],
   "source": [
    "for idx in sbuck_df.index:\n",
    "    print(item)"
   ]
  },
  {
   "cell_type": "code",
   "execution_count": null,
   "metadata": {},
   "outputs": [],
   "source": [
    "sbuck_map = folium.Map(location=[37.550823, 126.989502], tiles='Stamen Terrain', zoom_start=11)\n",
    "for idx in sbuck_df.index:\n",
    "    lat = sbuck_df.loc[idx, '위도']\n",
    "    lng = sbuck_df.loc[idx, '경도']\n",
    "    name = sbuck_df.loc[idx, '매장명']\n",
    "\n",
    "    folium.CircleMarker(location=[lat, lng], fill=True, fill_color='green', fill_opacity=1, popup=name,\n",
    "                        color='yellow', weight=1, radius=3).add_to(sbuck_map)\n",
    "sbuck_map"
   ]
  },
  {
   "cell_type": "code",
   "execution_count": null,
   "metadata": {},
   "outputs": [],
   "source": [
    "sbuck_map2 = folium.Map(location=[37.550823, 126.989502], tiles='Stamen Terrain', zoom_start=11)\n",
    "for idx in sbuck_df.index:\n",
    "    lat = sbuck_df.loc[idx, '위도']\n",
    "    lng = sbuck_df.loc[idx, '경도']\n",
    "    name = sbuck_df.loc[idx, '매장명']\n",
    "    type = sbuck_df.loc[idx, '매장타입']\n",
    "\n",
    "    # 매장타입별 색상\n",
    "    fillcolor = ''\n",
    "    size = 1\n",
    "    if type == 'general':\n",
    "        fillcolor = 'gray'\n",
    "        size = 2\n",
    "    elif type == 'reserve':\n",
    "        fillcolor = 'black'\n",
    "        size = 5\n",
    "    elif type == 'generalDT':\n",
    "        fillcolor = 'red'\n",
    "        size = 3\n",
    "    elif type == 'generalWT':\n",
    "        fillcolor = 'blue'\n",
    "        size = 3\n",
    "\n",
    "    folium.CircleMarker(location=[lat, lng], fill=True, fill_color=fillcolor, fill_opacity=1, popup=name,\n",
    "                        color='yellow', weight=1, radius=size).add_to(sbuck_map)\n",
    "sbuck_map2"
   ]
  },
  {
   "cell_type": "code",
   "execution_count": null,
   "metadata": {},
   "outputs": [],
   "source": [
    "# 시군구 경계표시\n",
    "sgg_geojson_path = './seoul_geo_simple.json'\n",
    "seoul_sgg_geo = json.load(open(sgg_geojson_path, enocoding='utf-8'))\n",
    "sbuck_map3 = folium.Map(location=[37.550823, 126.989502], tiles='cartoDB dark_matter', zoom_start=11)\n",
    "\n",
    "folium.GeoJson(seoul_sgg_geo, name='Seoul행정구역').add_to(sbuck_map3)\n",
    "sbuck_map3"
   ]
  },
  {
   "cell_type": "code",
   "execution_count": null,
   "metadata": {},
   "outputs": [],
   "source": [
    "sbuck_mean = seoul_sgg_stat['스타벅스_매장수'].mean()\n",
    "sbuck_mean"
   ]
  },
  {
   "cell_type": "code",
   "execution_count": null,
   "metadata": {},
   "outputs": [],
   "source": [
    "# 시군구 경계표시\n",
    "sgg_geojson_path = './seoul_geo_simple.json'\n",
    "seoul_sgg_geo = json.load(open(sgg_geojson_path, enocoding='utf-8'))\n",
    "sbuck_map3 = folium.Map(location=[37.550823, 126.989502], tiles='cartoDB dark_matter', zoom_start=11)\n",
    "\n",
    "folium.GeoJson(seoul_sgg_geo, name='Seoul행정구역').add_to(sbuck_map3)\n",
    "for idx in seoul_sgg_stat.index:\n",
    "    lat = seoul_sgg_stat.loc[idx, '위도']\n",
    "    lng = seoul_sgg_stat.loc[idx, '위도']\n",
    "    count = seoul_sgg_stat.loc[idx, '스타벅스_매장수']\n",
    "\n",
    "    if count > sbuck_mean: # 구별 평균치보다 매장수가 많음\n",
    "        fillcolor='red'\n",
    "    else:\n",
    "        fillcolor = 'blue'\n",
    "\n",
    "    folium.CircleMarker(location=[lat, lng], color='#ffff00', fill_color=fillcolor, fill_opacity=0.7, weight=1.5, redius=count/2, popup=count).add_to(sbuck_map3)\n",
    "\n",
    "sbuck_map3"
   ]
  },
  {
   "cell_type": "code",
   "execution_count": 3,
   "metadata": {},
   "outputs": [
    {
     "ename": "NameError",
     "evalue": "name 'seoul_sgg_geo' is not defined",
     "output_type": "error",
     "traceback": [
      "\u001b[1;31m---------------------------------------------------------------------------\u001b[0m",
      "\u001b[1;31mNameError\u001b[0m                                 Traceback (most recent call last)",
      "Cell \u001b[1;32mIn[3], line 4\u001b[0m\n\u001b[0;32m      1\u001b[0m \u001b[39m# 서울시 인구수별 분포\u001b[39;00m\n\u001b[0;32m      2\u001b[0m seoul_pop_choropleth \u001b[39m=\u001b[39m folium\u001b[39m.\u001b[39mMap(location\u001b[39m=\u001b[39m[\u001b[39m37.550823\u001b[39m, \u001b[39m126.989502\u001b[39m], tiles\u001b[39m=\u001b[39m\u001b[39m'\u001b[39m\u001b[39mCartoDB dark_matter\u001b[39m\u001b[39m'\u001b[39m, zoom_start\u001b[39m=\u001b[39m\u001b[39m10\u001b[39m)\n\u001b[1;32m----> 4\u001b[0m folium\u001b[39m.\u001b[39mChoropleth(geo_data\u001b[39m=\u001b[39mseoul_sgg_geo, data\u001b[39m=\u001b[39mseoul_sgg_stat,\n\u001b[0;32m      5\u001b[0m                   columns\u001b[39m=\u001b[39m[\u001b[39m'\u001b[39m\u001b[39m구\u001b[39m\u001b[39m'\u001b[39m,\u001b[39m'\u001b[39m\u001b[39m인구수\u001b[39m\u001b[39m'\u001b[39m], fill_color\u001b[39m=\u001b[39m\u001b[39m'\u001b[39m\u001b[39mPurples\u001b[39m\u001b[39m'\u001b[39m, fill_opacity\u001b[39m=\u001b[39m\u001b[39m0.7\u001b[39m, line_opacity\u001b[39m=\u001b[39m\u001b[39m0.5\u001b[39m,\n\u001b[0;32m      6\u001b[0m                   key_on\u001b[39m=\u001b[39m\u001b[39m'\u001b[39m\u001b[39mproperties.name\u001b[39m\u001b[39m'\u001b[39m)\u001b[39m.\u001b[39madd_to(seoul_pop_choropleth)\n\u001b[0;32m      8\u001b[0m seoul_pop_choropleth\n",
      "\u001b[1;31mNameError\u001b[0m: name 'seoul_sgg_geo' is not defined"
     ]
    }
   ],
   "source": [
    "# 서울시 인구수별 분포\n",
    "seoul_pop_choropleth = folium.Map(location=[37.550823, 126.989502], tiles='CartoDB dark_matter', zoom_start=10)\n",
    "\n",
    "folium.Choropleth(geo_data=seoul_sgg_geo, data=seoul_sgg_stat,\n",
    "                  columns=['구','인구수'], fill_color='Purples', fill_opacity=0.7, line_opacity=0.5,\n",
    "                  key_on='properties.name').add_to(seoul_pop_choropleth)\n",
    "\n",
    "seoul_pop_choropleth"
   ]
  },
  {
   "attachments": {},
   "cell_type": "markdown",
   "metadata": {},
   "source": [
    "- 결론 : 구에 살고 있는 인구수와 스타벅스 매장수는 관계 거의 X"
   ]
  }
 ],
 "metadata": {
  "kernelspec": {
   "display_name": "Python 3",
   "language": "python",
   "name": "python3"
  },
  "language_info": {
   "codemirror_mode": {
    "name": "ipython",
    "version": 3
   },
   "file_extension": ".py",
   "mimetype": "text/x-python",
   "name": "python",
   "nbconvert_exporter": "python",
   "pygments_lexer": "ipython3",
   "version": "3.11.4"
  },
  "orig_nbformat": 4,
  "vscode": {
   "interpreter": {
    "hash": "ff4b1fca65a764b45acb559e482afe389d289dd599b9f8c5fd12ff5c2ea46a65"
   }
  }
 },
 "nbformat": 4,
 "nbformat_minor": 2
}

{
 "cells": [
  {
   "attachments": {},
   "cell_type": "markdown",
   "metadata": {},
   "source": [
    "#### 다나와 크롤링\n",
    "\n",
    "##### 다나와 무선청소기 크롤링\n",
    "\n",
    "- 무선청소기 URL : https://search.danawa.com/dsearch.php?query=%EB%AC%B4%EC%84%A0%EC%B2%AD%EC%86%8C%EA%B8%B0&page=1&limit=120\n",
    "\n",
    "##### 셀레니움 등 크롤링 모듈 임포트\n"
   ]
  },
  {
   "cell_type": "code",
   "execution_count": null,
   "metadata": {},
   "outputs": [],
   "source": [
    "# tqdm progressbar warning 때문에 설치\n",
    "!pip install ipywidgets"
   ]
  },
  {
   "cell_type": "code",
   "execution_count": 5,
   "metadata": {},
   "outputs": [],
   "source": [
    "from selenium import webdriver\n",
    "from selenium.webdriver.common.by import By\n",
    "from bs4 import BeautifulSoup\n",
    "import pandas as pd\n",
    "from tqdm.autonotebook import tqdm"
   ]
  },
  {
   "cell_type": "code",
   "execution_count": 65,
   "metadata": {},
   "outputs": [],
   "source": [
    "# 크롬드라이버로 크롬 브라우저 실행\n",
    "driver = webdriver.Chrome()\n",
    "url = 'https://search.danawa.com/dsearch.php?query=%EB%AC%B4%EC%84%A0%EC%B2%AD%EC%86%8C%EA%B8%B0&page=1&limit=120'\n",
    "driver.get(url)"
   ]
  },
  {
   "cell_type": "code",
   "execution_count": 31,
   "metadata": {},
   "outputs": [],
   "source": [
    "# bs 사용 html 가져오기\n",
    "html = driver.page_source\n",
    "soup = BeautifulSoup(html, 'html.parser')"
   ]
  },
  {
   "cell_type": "code",
   "execution_count": 32,
   "metadata": {},
   "outputs": [
    {
     "data": {
      "text/plain": [
       "123"
      ]
     },
     "execution_count": 32,
     "metadata": {},
     "output_type": "execute_result"
    }
   ],
   "source": [
    "# 제품리스트만\n",
    "prod_items = soup.select('li.prod_item')\n",
    "len(prod_items)"
   ]
  },
  {
   "cell_type": "code",
   "execution_count": 39,
   "metadata": {},
   "outputs": [
    {
     "data": {
      "text/plain": [
       "'삼성전자 비스포크 제트 VS20B956D5'"
      ]
     },
     "execution_count": 39,
     "metadata": {},
     "output_type": "execute_result"
    }
   ],
   "source": [
    "# 첫 번째 제품으로 값 가져오기 체크\n",
    "# 1. 제품명 가져오기\n",
    "# strip() - 공백, \\n 다 없애줌 / 중간에 애드스마트 광고 부분 예외처리 제거대상\n",
    "title = prod_items[0].select('p.prod_name')[0].text.strip()\n",
    "title"
   ]
  },
  {
   "cell_type": "code",
   "execution_count": 44,
   "metadata": {},
   "outputs": [
    {
     "data": {
      "text/plain": [
       "'핸디스틱청소기 / 무선 / 흡입+물걸레겸용 / 흡입력: 220W / [구성] 거치대: 일체형청정스테이션 / 바닥 / 물걸레 / 솔형 / 틈새 / 연장툴 / [배터리] 분리형 (1개) / 충전시간: 3시간30분 / 사용시간: 1시간 / [성능] 디지털인버터모터 / 5단계여과 / [기능] IoT기능 / 디스플레이표시창 / 자동물공급 / LED라이트 / 배터리잔량표시 / 자동먼지비움 / [부가] 먼지통용량: 0.5L / 색상: 산토리니베이지 / 2022년형 / 물걸레 / 크기(가로x세로x깊이): 250x930x202mm'"
      ]
     },
     "execution_count": 44,
     "metadata": {},
     "output_type": "execute_result"
    }
   ],
   "source": [
    "# 2. 제품스펙 가져오기\n",
    "spec_list = prod_items[0].select('div.spec_list')[0].text.strip().replace('\\t','')\n",
    "spec_list"
   ]
  },
  {
   "cell_type": "code",
   "execution_count": 49,
   "metadata": {},
   "outputs": [
    {
     "data": {
      "text/plain": [
       "'555480'"
      ]
     },
     "execution_count": 49,
     "metadata": {},
     "output_type": "execute_result"
    }
   ],
   "source": [
    "# 3. 가격정보\n",
    "prod_items[0].select('li.rank_one > p.price_sect > a > strong')[0].text.strip().replace(',', '')"
   ]
  },
  {
   "cell_type": "code",
   "execution_count": 52,
   "metadata": {},
   "outputs": [
    {
     "data": {
      "text/plain": [
       "True"
      ]
     },
     "execution_count": 52,
     "metadata": {},
     "output_type": "execute_result"
    }
   ],
   "source": [
    "# 애드스마트 광고영역을 판별\n",
    "'ad_section' in prod_items[5].select('div')[0]['class']"
   ]
  },
  {
   "attachments": {},
   "cell_type": "markdown",
   "metadata": {},
   "source": [
    "##### 반복문으로 검색결과 상품정보 리스트 추출"
   ]
  },
  {
   "cell_type": "code",
   "execution_count": 57,
   "metadata": {},
   "outputs": [],
   "source": [
    "prod_data = []\n",
    "# count = 0\n",
    "\n",
    "for prod_item in prod_items:\n",
    "    # if count >= 7: break\n",
    "    if 'ad_section' in prod_item.select('div')[0]['class']:\n",
    "        continue # 애드스마트 영역이면 패스\n",
    "    \n",
    "    try:\n",
    "        title = prod_item.select('p.prod_name')[0].text.strip() # 1. 제품명\n",
    "        spec_list = prod_item.select('div.spec_list')[0].text.strip().replace('\\t','') # 2. 제품스펙\n",
    "        price = prod_item.select('li.rank_one > p.price_sect > a > strong')[0].text.strip().replace(',', '') # 3. 가격\n",
    "        prod_data.append([title, spec_list, price])\n",
    "    except:\n",
    "        pass\n",
    "\n",
    "    # count += 1"
   ]
  },
  {
   "cell_type": "code",
   "execution_count": 58,
   "metadata": {},
   "outputs": [
    {
     "data": {
      "text/plain": [
       "120"
      ]
     },
     "execution_count": 58,
     "metadata": {},
     "output_type": "execute_result"
    }
   ],
   "source": [
    "len(prod_data)"
   ]
  },
  {
   "cell_type": "code",
   "execution_count": 60,
   "metadata": {},
   "outputs": [
    {
     "data": {
      "text/html": [
       "<div>\n",
       "<style scoped>\n",
       "    .dataframe tbody tr th:only-of-type {\n",
       "        vertical-align: middle;\n",
       "    }\n",
       "\n",
       "    .dataframe tbody tr th {\n",
       "        vertical-align: top;\n",
       "    }\n",
       "\n",
       "    .dataframe thead th {\n",
       "        text-align: right;\n",
       "    }\n",
       "</style>\n",
       "<table border=\"1\" class=\"dataframe\">\n",
       "  <thead>\n",
       "    <tr style=\"text-align: right;\">\n",
       "      <th></th>\n",
       "      <th>0</th>\n",
       "      <th>1</th>\n",
       "      <th>2</th>\n",
       "    </tr>\n",
       "  </thead>\n",
       "  <tbody>\n",
       "    <tr>\n",
       "      <th>0</th>\n",
       "      <td>삼성전자 비스포크 제트 VS20B956D5</td>\n",
       "      <td>핸디스틱청소기 / 무선 / 흡입+물걸레겸용 / 흡입력: 220W / [구성] 거치대...</td>\n",
       "      <td>555480</td>\n",
       "    </tr>\n",
       "    <tr>\n",
       "      <th>1</th>\n",
       "      <td>LG전자 오브제컬렉션 코드제로 A9S AX9984</td>\n",
       "      <td>핸디스틱청소기 / 무선 / 흡입+물걸레겸용 / 흡입력: 250W / [구성] 거치대...</td>\n",
       "      <td>1136630</td>\n",
       "    </tr>\n",
       "    <tr>\n",
       "      <th>2</th>\n",
       "      <td>LG전자 오브제컬렉션 코드제로 AS9202WD</td>\n",
       "      <td>핸디스틱청소기 / 무선 / 흡입전용 / 흡입력: 210W / [구성] 거치대: 거치...</td>\n",
       "      <td>530620</td>\n",
       "    </tr>\n",
       "    <tr>\n",
       "      <th>3</th>\n",
       "      <td>샤오미 드리미 V11</td>\n",
       "      <td>핸디스틱청소기 / 무선 / 흡입전용 / 흡입력: 150AW / 흡입력: 25000P...</td>\n",
       "      <td>179000</td>\n",
       "    </tr>\n",
       "    <tr>\n",
       "      <th>4</th>\n",
       "      <td>삼성전자 비스포크 제트 VS20A956A3</td>\n",
       "      <td>핸디스틱청소기 / 무선 / 흡입전용 / 흡입력: 210W / [구성] 거치대: 일체...</td>\n",
       "      <td>482660</td>\n",
       "    </tr>\n",
       "  </tbody>\n",
       "</table>\n",
       "</div>"
      ],
      "text/plain": [
       "                             0  \\\n",
       "0      삼성전자 비스포크 제트 VS20B956D5   \n",
       "1  LG전자 오브제컬렉션 코드제로 A9S AX9984   \n",
       "2    LG전자 오브제컬렉션 코드제로 AS9202WD   \n",
       "3                  샤오미 드리미 V11   \n",
       "4      삼성전자 비스포크 제트 VS20A956A3   \n",
       "\n",
       "                                                   1        2  \n",
       "0  핸디스틱청소기 / 무선 / 흡입+물걸레겸용 / 흡입력: 220W / [구성] 거치대...   555480  \n",
       "1  핸디스틱청소기 / 무선 / 흡입+물걸레겸용 / 흡입력: 250W / [구성] 거치대...  1136630  \n",
       "2  핸디스틱청소기 / 무선 / 흡입전용 / 흡입력: 210W / [구성] 거치대: 거치...   530620  \n",
       "3  핸디스틱청소기 / 무선 / 흡입전용 / 흡입력: 150AW / 흡입력: 25000P...   179000  \n",
       "4  핸디스틱청소기 / 무선 / 흡입전용 / 흡입력: 210W / [구성] 거치대: 일체...   482660  "
      ]
     },
     "execution_count": 60,
     "metadata": {},
     "output_type": "execute_result"
    }
   ],
   "source": [
    "pd.DataFrame(prod_data).head()"
   ]
  },
  {
   "cell_type": "code",
   "execution_count": null,
   "metadata": {},
   "outputs": [],
   "source": [
    "# 함수 만들기\n",
    "def get_prod_items(prod_items):\n",
    "    prod_data = []\n",
    "\n",
    "    for prod_item in prod_items:\n",
    "        if 'ad_section' in prod_item.select('div')[0]['class']:\n",
    "            continue # 애드스마트 영역이면 패스\n",
    "    \n",
    "        try:\n",
    "            title = prod_item.select('p.prod_name')[0].text.strip() # 1. 제품명\n",
    "            spec_list = prod_item.select('div.spec_list')[0].text.strip().replace('\\t','') # 2. 제품스펙\n",
    "            price = prod_item.select('li.rank_one > p.price_sect > a > strong')[0].text.strip().replace(',', '') # 3. 가격\n",
    "            prod_data.append([title, spec_list, price])\n",
    "        except:\n",
    "            pass\n",
    "    return prod_data"
   ]
  },
  {
   "cell_type": "code",
   "execution_count": 61,
   "metadata": {},
   "outputs": [
    {
     "data": {
      "text/html": [
       "<div>\n",
       "<style scoped>\n",
       "    .dataframe tbody tr th:only-of-type {\n",
       "        vertical-align: middle;\n",
       "    }\n",
       "\n",
       "    .dataframe tbody tr th {\n",
       "        vertical-align: top;\n",
       "    }\n",
       "\n",
       "    .dataframe thead th {\n",
       "        text-align: right;\n",
       "    }\n",
       "</style>\n",
       "<table border=\"1\" class=\"dataframe\">\n",
       "  <thead>\n",
       "    <tr style=\"text-align: right;\">\n",
       "      <th></th>\n",
       "      <th>0</th>\n",
       "      <th>1</th>\n",
       "      <th>2</th>\n",
       "    </tr>\n",
       "  </thead>\n",
       "  <tbody>\n",
       "    <tr>\n",
       "      <th>115</th>\n",
       "      <td>일렉트로룩스 ZB6218STM</td>\n",
       "      <td>핸디청소기 / 무선 / 흡입전용 / [구성] 거치대: 충전+거치 / [배터리] 내장...</td>\n",
       "      <td>147150</td>\n",
       "    </tr>\n",
       "    <tr>\n",
       "      <th>116</th>\n",
       "      <td>한빛시스템 HV-5099</td>\n",
       "      <td>핸디스틱청소기 / 무선 / 흡입전용 / [구성] 바닥 / 솔형 / 틈새 / [배터리...</td>\n",
       "      <td>75090</td>\n",
       "    </tr>\n",
       "    <tr>\n",
       "      <th>117</th>\n",
       "      <td>캐치웰 CX PRO</td>\n",
       "      <td>핸디스틱청소기 / 무선 / 흡입전용 / [구성] 바닥 / 침구 / 솔형 / 틈새 /...</td>\n",
       "      <td>329000</td>\n",
       "    </tr>\n",
       "    <tr>\n",
       "      <th>118</th>\n",
       "      <td>LG전자 코드제로 A9S AS9271</td>\n",
       "      <td>핸디스틱청소기 / 무선 / 흡입+물걸레겸용 / 흡입력: 210W / [구성] 거치대...</td>\n",
       "      <td>677310</td>\n",
       "    </tr>\n",
       "    <tr>\n",
       "      <th>119</th>\n",
       "      <td>리하스 S3</td>\n",
       "      <td>핸디스틱청소기 / 무선 / 흡입전용 / 흡입력: 30000Pa / [구성] 거치대:...</td>\n",
       "      <td>209000</td>\n",
       "    </tr>\n",
       "  </tbody>\n",
       "</table>\n",
       "</div>"
      ],
      "text/plain": [
       "                        0                                                  1  \\\n",
       "115      일렉트로룩스 ZB6218STM  핸디청소기 / 무선 / 흡입전용 / [구성] 거치대: 충전+거치 / [배터리] 내장...   \n",
       "116         한빛시스템 HV-5099  핸디스틱청소기 / 무선 / 흡입전용 / [구성] 바닥 / 솔형 / 틈새 / [배터리...   \n",
       "117            캐치웰 CX PRO  핸디스틱청소기 / 무선 / 흡입전용 / [구성] 바닥 / 침구 / 솔형 / 틈새 /...   \n",
       "118  LG전자 코드제로 A9S AS9271  핸디스틱청소기 / 무선 / 흡입+물걸레겸용 / 흡입력: 210W / [구성] 거치대...   \n",
       "119                리하스 S3  핸디스틱청소기 / 무선 / 흡입전용 / 흡입력: 30000Pa / [구성] 거치대:...   \n",
       "\n",
       "          2  \n",
       "115  147150  \n",
       "116   75090  \n",
       "117  329000  \n",
       "118  677310  \n",
       "119  209000  "
      ]
     },
     "execution_count": 61,
     "metadata": {},
     "output_type": "execute_result"
    }
   ],
   "source": [
    "# 함수 테스트\n",
    "pd.DataFrame(prod_data).tail()"
   ]
  },
  {
   "cell_type": "code",
   "execution_count": 63,
   "metadata": {},
   "outputs": [],
   "source": [
    "# 페이지 URL 생성함수\n",
    "def get_search_page_url(keyword, page):\n",
    "    return f'https://search.danawa.com/dsearch.php?query={keyword}&page={page}&limit=120&sort=saveDESC'"
   ]
  },
  {
   "cell_type": "code",
   "execution_count": 66,
   "metadata": {},
   "outputs": [],
   "source": [
    "# 함수 테스트\n",
    "keyword = '무선청소기'\n",
    "page = 10\n",
    "url = get_search_page_url(keyword, page)\n",
    "driver.get(url)"
   ]
  },
  {
   "attachments": {},
   "cell_type": "markdown",
   "metadata": {},
   "source": [
    "##### 여러 페이지 상품 데이터 수집"
   ]
  },
  {
   "cell_type": "code",
   "execution_count": 69,
   "metadata": {},
   "outputs": [],
   "source": [
    "driver = webdriver.Chrome()\n",
    "# 암묵적으로 웹자원 로드를 위해서 3초 대기\n",
    "# driver.implicitly_wait(5)"
   ]
  },
  {
   "cell_type": "code",
   "execution_count": 71,
   "metadata": {},
   "outputs": [
    {
     "data": {
      "application/vnd.jupyter.widget-view+json": {
       "model_id": "3c7274c504244611a4a287c09da322a8",
       "version_major": 2,
       "version_minor": 0
      },
      "text/plain": [
       "  0%|          | 0/20 [00:00<?, ?it/s]"
      ]
     },
     "metadata": {},
     "output_type": "display_data"
    },
    {
     "ename": "NameError",
     "evalue": "name 'get_prod_items' is not defined",
     "output_type": "error",
     "traceback": [
      "\u001b[1;31m---------------------------------------------------------------------------\u001b[0m",
      "\u001b[1;31mNameError\u001b[0m                                 Traceback (most recent call last)",
      "Cell \u001b[1;32mIn[71], line 16\u001b[0m\n\u001b[0;32m     13\u001b[0m soup \u001b[39m=\u001b[39m BeautifulSoup(html, \u001b[39m'\u001b[39m\u001b[39mhtml.parser\u001b[39m\u001b[39m'\u001b[39m)\n\u001b[0;32m     15\u001b[0m prod_items \u001b[39m=\u001b[39m soup\u001b[39m.\u001b[39mselect(\u001b[39m'\u001b[39m\u001b[39mli.prod_item\u001b[39m\u001b[39m'\u001b[39m)\n\u001b[1;32m---> 16\u001b[0m prod_item_list \u001b[39m=\u001b[39m get_prod_items(prod_items)\n\u001b[0;32m     18\u001b[0m prod_total_data \u001b[39m+\u001b[39m\u001b[39m=\u001b[39m prod_item_list\n",
      "\u001b[1;31mNameError\u001b[0m: name 'get_prod_items' is not defined"
     ]
    }
   ],
   "source": [
    "from time import sleep\n",
    "\n",
    "keyword = '무선청소기'\n",
    "total_page = 20\n",
    "prod_total_data = []\n",
    "\n",
    "for page in tqdm(range(1, total_page + 1)):\n",
    "    url = get_search_page_url(keyword='무선청소기', page=page)\n",
    "    driver.get(url)\n",
    "    sleep(7.0) # 5초로 대기했을 때 못 가져오는 데이터 발생\n",
    "\n",
    "    html = driver.page_source\n",
    "    soup = BeautifulSoup(html, 'html.parser')\n",
    "\n",
    "    prod_items = soup.select('li.prod_item')\n",
    "    prod_item_list = get_prod_items(prod_items)\n",
    "\n",
    "    prod_total_data += prod_item_list"
   ]
  },
  {
   "cell_type": "code",
   "execution_count": null,
   "metadata": {},
   "outputs": [],
   "source": [
    "# 수집데이터 저장\n",
    "df = pd.DataFrame(prod_total_data)\n",
    "df.columns=['상품명', '스펙목록', '가격']\n",
    "df.to_excel('./다나와_무선청소기.xlsx')"
   ]
  }
 ],
 "metadata": {
  "kernelspec": {
   "display_name": "Python 3",
   "language": "python",
   "name": "python3"
  },
  "language_info": {
   "codemirror_mode": {
    "name": "ipython",
    "version": 3
   },
   "file_extension": ".py",
   "mimetype": "text/x-python",
   "name": "python",
   "nbconvert_exporter": "python",
   "pygments_lexer": "ipython3",
   "version": "3.11.4"
  },
  "orig_nbformat": 4,
  "vscode": {
   "interpreter": {
    "hash": "ff4b1fca65a764b45acb559e482afe389d289dd599b9f8c5fd12ff5c2ea46a65"
   }
  }
 },
 "nbformat": 4,
 "nbformat_minor": 2
}
